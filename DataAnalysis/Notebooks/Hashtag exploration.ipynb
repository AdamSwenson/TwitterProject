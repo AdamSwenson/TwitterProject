{
 "cells": [
  {
   "cell_type": "code",
   "execution_count": 1,
   "metadata": {
    "ExecuteTime": {
     "end_time": "2018-06-25T22:17:56.848000Z",
     "start_time": "2018-06-25T22:17:55.729493Z"
    }
   },
   "outputs": [
    {
     "name": "stdout",
     "output_type": "stream",
     "text": [
      "(bookmark:twitterproject) -> /Users/adam/Dropbox/PainNarrativesLab/TwitterProject\n",
      "/Users/adam/Dropbox/PainNarrativesLab/TwitterProject\n"
     ]
    }
   ],
   "source": [
    "%cd twitterproject\n",
    "import pandas as pd\n",
    "#Plotting \n",
    "%matplotlib inline\n",
    "from matplotlib import pyplot as plt\n",
    "import seaborn as sns\n",
    "import numpy as np\n",
    "\n",
    "sns.set(style=\"whitegrid\")\n",
    "\n",
    "import environment\n",
    "from TwitterDatabase.Repositories import DataRepositories as DR\n",
    "from TwitterDatabase.DatabaseAccessObjects import DataConnections as DC\n",
    "from TwitterDatabase.Models.WordORM import Word\n",
    "from TwitterDatabase.Models.TweetORM import Users as User\n",
    "from TwitterDatabase.Models.TweetORM import Tweet\n",
    "from TwitterDataAnalysis.SearchTools.WordMaps import get_adjacent_word_counts, get_adjacent_words, get_user_ids_for_word\n",
    "\n",
    "EXP_TERMS_FILEPATH = '%s/experimental-terms.xlsx' % environment.EXPERIMENTS_FOLDER\n",
    "IDS_FILEPATH = \"%s/temp_output/tweet-ids.csv\" % environment.LOG_FOLDER_PATH\n",
    "\n",
    "def make_term_ids_filepath(term, path=environment.LOG_FOLDER_PATH):\n",
    "    return \"%s/temp_output/tweet-ids/%s-ids.csv\" % (path, term)\n",
    "    "
   ]
  },
  {
   "cell_type": "code",
   "execution_count": null,
   "metadata": {},
   "outputs": [],
   "source": [
    "e = DC.initialize_engine('mysql')\n",
    "dao = DC.DAO(e"
   ]
  },
  {
   "cell_type": "markdown",
   "metadata": {},
   "source": [
    "# Most common hashtags"
   ]
  },
  {
   "cell_type": "code",
   "execution_count": null,
   "metadata": {
    "ExecuteTime": {
     "start_time": "2018-06-19T17:54:12.469Z"
    }
   },
   "outputs": [],
   "source": [
    "query = \"\"\"\n",
    "SELECT h.hashtag, count(x.tweetID) AS tweetCount\n",
    "FROM tweetsXtags x\n",
    "INNER JOIN hashtags h ON(x.tagID = h.tagId)\n",
    "GROUP BY (h.tagID)\n",
    "ORDER BY tweetCount DESC\n",
    "LIMIT 500\n",
    "\"\"\""
   ]
  },
  {
   "cell_type": "code",
   "execution_count": null,
   "metadata": {},
   "outputs": [],
   "source": []
  },
  {
   "cell_type": "code",
   "execution_count": null,
   "metadata": {},
   "outputs": [],
   "source": []
  },
  {
   "cell_type": "code",
   "execution_count": null,
   "metadata": {},
   "outputs": [],
   "source": []
  },
  {
   "cell_type": "markdown",
   "metadata": {},
   "source": [
    "# Hashtag distributions"
   ]
  }
 ],
 "metadata": {
  "kernelspec": {
   "display_name": "Python 3",
   "language": "python",
   "name": "python3"
  },
  "language_info": {
   "codemirror_mode": {
    "name": "ipython",
    "version": 3
   },
   "file_extension": ".py",
   "mimetype": "text/x-python",
   "name": "python",
   "nbconvert_exporter": "python",
   "pygments_lexer": "ipython3",
   "version": "3.6.4"
  },
  "latex_envs": {
   "LaTeX_envs_menu_present": true,
   "autoclose": false,
   "autocomplete": true,
   "bibliofile": "biblio.bib",
   "cite_by": "apalike",
   "current_citInitial": 1,
   "eqLabelWithNumbers": true,
   "eqNumInitial": 1,
   "hotkeys": {
    "equation": "Ctrl-E",
    "itemize": "Ctrl-I"
   },
   "labels_anchors": false,
   "latex_user_defs": false,
   "report_style_numbering": false,
   "user_envs_cfg": false
  },
  "toc": {
   "base_numbering": 1,
   "nav_menu": {},
   "number_sections": true,
   "sideBar": true,
   "skip_h1_title": false,
   "title_cell": "Table of Contents",
   "title_sidebar": "Contents",
   "toc_cell": false,
   "toc_position": {},
   "toc_section_display": true,
   "toc_window_display": false
  }
 },
 "nbformat": 4,
 "nbformat_minor": 2
}
