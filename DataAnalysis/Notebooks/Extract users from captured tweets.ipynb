{
 "cells": [
  {
   "cell_type": "markdown",
   "metadata": {},
   "source": [
    "We have been capturing user data in the other_data json field of each tweet for laptop miner. This notebook is dedicated to extracting those data."
   ]
  },
  {
   "cell_type": "code",
   "execution_count": 1,
   "metadata": {
    "ExecuteTime": {
     "end_time": "2018-08-10T22:58:29.029520Z",
     "start_time": "2018-08-10T22:58:27.402876Z"
    }
   },
   "outputs": [
    {
     "name": "stdout",
     "output_type": "stream",
     "text": [
      "(bookmark:twitterproject) -> /Users/adam/Dropbox/PainNarrativesLab/TwitterProject\n",
      "/Users/adam/Dropbox/PainNarrativesLab/TwitterProject\n",
      "Reading configuration from /Users/adam/Dropbox/PainNarrativesLab/TwitterProject/configurations/testing.config.ini\n"
     ]
    },
    {
     "name": "stderr",
     "output_type": "stream",
     "text": [
      "/Users/adam/.pyenv/versions/3.6.4/lib/python3.6/importlib/_bootstrap.py:219: RuntimeWarning: numpy.dtype size changed, may indicate binary incompatibility. Expected 96, got 88\n",
      "  return f(*args, **kwds)\n",
      "/Users/adam/.pyenv/versions/3.6.4/lib/python3.6/importlib/_bootstrap.py:219: RuntimeWarning: numpy.dtype size changed, may indicate binary incompatibility. Expected 96, got 88\n",
      "  return f(*args, **kwds)\n"
     ]
    }
   ],
   "source": [
    "%cd twitterproject\n",
    "import sys\n",
    "sys.argv = ['data-analysis']\n",
    "import environment\n",
    "\n",
    "import pandas as pd\n",
    "import numpy as np\n",
    "\n",
    "#Plotting \n",
    "%matplotlib inline\n",
    "from matplotlib import pyplot as plt\n",
    "import seaborn as sns\n",
    "sns.set(style=\"whitegrid\")\n",
    "\n",
    "from TwitterDatabase.Repositories import DataRepositories as DR\n",
    "from TwitterDatabase.DatabaseAccessObjects import DataConnections as DC\n",
    "from TwitterDatabase.Models.WordORM import Word\n",
    "from TwitterDatabase.Models.TweetORM import Users as User\n",
    "from TwitterDatabase.Models.TweetORM import Tweet\n",
    "from TwitterDatabase.Models.TweetORM import UserFactory\n",
    "\n",
    "from Server.ServerTools import Helpers\n",
    "\n",
    "\n"
   ]
  },
  {
   "cell_type": "code",
   "execution_count": null,
   "metadata": {},
   "outputs": [],
   "source": [
    "# Json field contents\n",
    "\n",
    "What's in the other_data field?\n",
    "\n",
    "import json\n",
    "\n",
    "j = \"{\\\"id\\\": 1013218630740238336, \\\"id_str\\\": \\\"1013218630740238336\\\", \\\"text\\\": \\\"Works for me.. Was a pain in the ass anyways waiting the extra time for the prescription to be filled to find out i\\\\u2026 https://t.co/XNW11OrC0p\\\", \\\"truncated\\\": true, \\\"entities\\\": \\\"{\\\\\\\"hashtags\\\\\\\": [], \\\\\\\"symbols\\\\\\\": [], \\\\\\\"user_mentions\\\\\\\": [], \\\\\\\"urls\\\\\\\": [{\\\\\\\"url\\\\\\\": \\\\\\\"https://t.co/XNW11OrC0p\\\\\\\", \\\\\\\"expanded_url\\\\\\\": \\\\\\\"https://twitter.com/i/web/status/1013218630740238336\\\\\\\", \\\\\\\"display_url\\\\\\\": \\\\\\\"twitter.com/i/web/status/1\\\\\\\\u2026\\\\\\\", \\\\\\\"indices\\\\\\\": [117, 140]}]}\\\", \\\"metadata\\\": \\\"{\\\\\\\"iso_language_code\\\\\\\": \\\\\\\"en\\\\\\\", \\\\\\\"result_type\\\\\\\": \\\\\\\"recent\\\\\\\"}\\\", \\\"in_reply_to_status_id\\\": null, \\\"in_reply_to_status_id_str\\\": null, \\\"in_reply_to_user_id\\\": null, \\\"in_reply_to_user_id_str\\\": null, \\\"user\\\": \\\"{\\\\\\\"id\\\\\\\": 48058862, \\\\\\\"id_str\\\\\\\": \\\\\\\"48058862\\\\\\\", \\\\\\\"name\\\\\\\": \\\\\\\"Teresa\\\\\\\", \\\\\\\"screen_name\\\\\\\": \\\\\\\"RessyM\\\\\\\", \\\\\\\"location\\\\\\\": \\\\\\\"Toronto, Ontario\\\\\\\", \\\\\\\"description\\\\\\\": \\\\\\\"WoW Addon Maintainer (ARL & Collectinator), Curse/Twitch: RessyM\\\\\\\\nBlizzard Tech Support MVP\\\\\\\", \\\\\\\"url\\\\\\\": null, \\\\\\\"entities\\\\\\\": {\\\\\\\"description\\\\\\\": {\\\\\\\"urls\\\\\\\": []}}, \\\\\\\"protected\\\\\\\": false, \\\\\\\"followers_count\\\\\\\": 1033, \\\\\\\"friends_count\\\\\\\": 475, \\\\\\\"listed_count\\\\\\\": 40, \\\\\\\"created_at\\\\\\\": \\\\\\\"Wed Jun 17 18:24:23 +0000 2009\\\\\\\", \\\\\\\"favourites_count\\\\\\\": 15340, \\\\\\\"utc_offset\\\\\\\": null, \\\\\\\"time_zone\\\\\\\": null, \\\\\\\"geo_enabled\\\\\\\": false, \\\\\\\"verified\\\\\\\": false, \\\\\\\"statuses_count\\\\\\\": 57156, \\\\\\\"lang\\\\\\\": \\\\\\\"en\\\\\\\", \\\\\\\"contributors_enabled\\\\\\\": false, \\\\\\\"is_translator\\\\\\\": false, \\\\\\\"is_translation_enabled\\\\\\\": false, \\\\\\\"profile_background_color\\\\\\\": \\\\\\\"1A1B1F\\\\\\\", \\\\\\\"profile_background_image_url\\\\\\\": \\\\\\\"http://abs.twimg.com/images/themes/theme9/bg.gif\\\\\\\", \\\\\\\"profile_background_image_url_https\\\\\\\": \\\\\\\"https://abs.twimg.com/images/themes/theme9/bg.gif\\\\\\\", \\\\\\\"profile_background_tile\\\\\\\": false, \\\\\\\"profile_image_url\\\\\\\": \\\\\\\"http://pbs.twimg.com/profile_images/801860512220901377/5qw96jgB_normal.jpg\\\\\\\", \\\\\\\"profile_image_url_https\\\\\\\": \\\\\\\"https://pbs.twimg.com/profile_images/801860512220901377/5qw96jgB_normal.jpg\\\\\\\", \\\\\\\"profile_banner_url\\\\\\\": \\\\\\\"https://pbs.twimg.com/profile_banners/48058862/1479691314\\\\\\\", \\\\\\\"profile_link_color\\\\\\\": \\\\\\\"2FC2EF\\\\\\\", \\\\\\\"profile_sidebar_border_color\\\\\\\": \\\\\\\"181A1E\\\\\\\", \\\\\\\"profile_sidebar_fill_color\\\\\\\": \\\\\\\"252429\\\\\\\", \\\\\\\"profile_text_color\\\\\\\": \\\\\\\"666666\\\\\\\", \\\\\\\"profile_use_background_image\\\\\\\": true, \\\\\\\"has_extended_profile\\\\\\\": true, \\\\\\\"default_profile\\\\\\\": false, \\\\\\\"default_profile_image\\\\\\\": false, \\\\\\\"following\\\\\\\": false, \\\\\\\"follow_request_sent\\\\\\\": false, \\\\\\\"notifications\\\\\\\": false, \\\\\\\"translator_type\\\\\\\": \\\\\\\"none\\\\\\\"}\\\", \\\"geo\\\": null, \\\"coordinates\\\": null, \\\"place\\\": null, \\\"contributors\\\": null, \\\"is_quote_status\\\": false, \\\"possibly_sensitive\\\": false}\"\n",
    "j = json.loads(j)\n",
    "\n",
    "\n",
    "for k in j.keys():\n",
    "    print (k)\n",
    "\n",
    "j['metadata']\n",
    "\n",
    "j['contributors']\n",
    "\n",
    "j['is_quote_status']\n",
    "\n",
    "j['geo']\n",
    "\n",
    "u = json.loads(j['user'])\n",
    "u"
   ]
  }
 ],
 "metadata": {
  "kernelspec": {
   "display_name": "Python 3",
   "language": "python",
   "name": "python3"
  },
  "language_info": {
   "codemirror_mode": {
    "name": "ipython",
    "version": 3
   },
   "file_extension": ".py",
   "mimetype": "text/x-python",
   "name": "python",
   "nbconvert_exporter": "python",
   "pygments_lexer": "ipython3",
   "version": "3.6.4"
  },
  "latex_envs": {
   "LaTeX_envs_menu_present": true,
   "autoclose": false,
   "autocomplete": true,
   "bibliofile": "biblio.bib",
   "cite_by": "apalike",
   "current_citInitial": 1,
   "eqLabelWithNumbers": true,
   "eqNumInitial": 1,
   "hotkeys": {
    "equation": "Ctrl-E",
    "itemize": "Ctrl-I"
   },
   "labels_anchors": false,
   "latex_user_defs": false,
   "report_style_numbering": false,
   "user_envs_cfg": false
  },
  "toc": {
   "base_numbering": 1,
   "nav_menu": {},
   "number_sections": true,
   "sideBar": true,
   "skip_h1_title": false,
   "title_cell": "Table of Contents",
   "title_sidebar": "Contents",
   "toc_cell": false,
   "toc_position": {},
   "toc_section_display": true,
   "toc_window_display": false
  }
 },
 "nbformat": 4,
 "nbformat_minor": 2
}
