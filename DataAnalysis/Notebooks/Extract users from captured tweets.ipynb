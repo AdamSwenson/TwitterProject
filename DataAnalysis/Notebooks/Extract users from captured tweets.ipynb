{
 "cells": [
  {
   "cell_type": "markdown",
   "metadata": {},
   "source": [
    "We have been capturing user data in the other_data json field of each tweet for laptop miner. This notebook is dedicated to extracting those data."
   ]
  },
  {
   "cell_type": "code",
   "execution_count": 1,
   "metadata": {
    "ExecuteTime": {
     "end_time": "2018-08-10T22:58:29.029520Z",
     "start_time": "2018-08-10T22:58:27.402876Z"
    }
   },
   "outputs": [
    {
     "name": "stdout",
     "output_type": "stream",
     "text": [
      "(bookmark:twitterproject) -> /Users/adam/Dropbox/PainNarrativesLab/TwitterProject\n",
      "/Users/adam/Dropbox/PainNarrativesLab/TwitterProject\n",
      "Reading configuration from /Users/adam/Dropbox/PainNarrativesLab/TwitterProject/configurations/testing.config.ini\n"
     ]
    },
    {
     "name": "stderr",
     "output_type": "stream",
     "text": [
      "/Users/adam/.pyenv/versions/3.6.4/lib/python3.6/importlib/_bootstrap.py:219: RuntimeWarning: numpy.dtype size changed, may indicate binary incompatibility. Expected 96, got 88\n",
      "  return f(*args, **kwds)\n",
      "/Users/adam/.pyenv/versions/3.6.4/lib/python3.6/importlib/_bootstrap.py:219: RuntimeWarning: numpy.dtype size changed, may indicate binary incompatibility. Expected 96, got 88\n",
      "  return f(*args, **kwds)\n"
     ]
    }
   ],
   "source": [
    "%cd twitterproject\n",
    "import sys\n",
    "sys.argv = ['data-analysis']\n",
    "import environment\n",
    "\n",
    "import pandas as pd\n",
    "import numpy as np\n",
    "\n",
    "#Plotting \n",
    "%matplotlib inline\n",
    "from matplotlib import pyplot as plt\n",
    "import seaborn as sns\n",
    "sns.set(style=\"whitegrid\")\n",
    "\n",
    "from TwitterDatabase.Repositories import DataRepositories as DR\n",
    "from TwitterDatabase.DatabaseAccessObjects import DataConnections as DC\n",
    "from TwitterDatabase.Models.WordORM import Word\n",
    "from TwitterDatabase.Models.TweetORM import Users as User\n",
    "from TwitterDatabase.Models.TweetORM import Tweet\n",
    "from TwitterDatabase.Models.TweetORM import UserFactory\n",
    "\n",
    "from Server.ServerTools import Helpers\n",
    "\n",
    "\n"
   ]
  },
  {
   "cell_type": "markdown",
   "metadata": {},
   "source": [
    "# Json field contents\n",
    "\n",
    "What's in the other_data field?"
   ]
  },
  {
   "cell_type": "code",
   "execution_count": 2,
   "metadata": {
    "ExecuteTime": {
     "end_time": "2018-08-10T23:02:42.430589Z",
     "start_time": "2018-08-10T23:02:42.426182Z"
    }
   },
   "outputs": [],
   "source": [
    "import json\n",
    "\n",
    "j = \"{\\\"id\\\": 1013218630740238336, \\\"id_str\\\": \\\"1013218630740238336\\\", \\\"text\\\": \\\"Works for me.. Was a pain in the ass anyways waiting the extra time for the prescription to be filled to find out i\\\\u2026 https://t.co/XNW11OrC0p\\\", \\\"truncated\\\": true, \\\"entities\\\": \\\"{\\\\\\\"hashtags\\\\\\\": [], \\\\\\\"symbols\\\\\\\": [], \\\\\\\"user_mentions\\\\\\\": [], \\\\\\\"urls\\\\\\\": [{\\\\\\\"url\\\\\\\": \\\\\\\"https://t.co/XNW11OrC0p\\\\\\\", \\\\\\\"expanded_url\\\\\\\": \\\\\\\"https://twitter.com/i/web/status/1013218630740238336\\\\\\\", \\\\\\\"display_url\\\\\\\": \\\\\\\"twitter.com/i/web/status/1\\\\\\\\u2026\\\\\\\", \\\\\\\"indices\\\\\\\": [117, 140]}]}\\\", \\\"metadata\\\": \\\"{\\\\\\\"iso_language_code\\\\\\\": \\\\\\\"en\\\\\\\", \\\\\\\"result_type\\\\\\\": \\\\\\\"recent\\\\\\\"}\\\", \\\"in_reply_to_status_id\\\": null, \\\"in_reply_to_status_id_str\\\": null, \\\"in_reply_to_user_id\\\": null, \\\"in_reply_to_user_id_str\\\": null, \\\"user\\\": \\\"{\\\\\\\"id\\\\\\\": 48058862, \\\\\\\"id_str\\\\\\\": \\\\\\\"48058862\\\\\\\", \\\\\\\"name\\\\\\\": \\\\\\\"Teresa\\\\\\\", \\\\\\\"screen_name\\\\\\\": \\\\\\\"RessyM\\\\\\\", \\\\\\\"location\\\\\\\": \\\\\\\"Toronto, Ontario\\\\\\\", \\\\\\\"description\\\\\\\": \\\\\\\"WoW Addon Maintainer (ARL & Collectinator), Curse/Twitch: RessyM\\\\\\\\nBlizzard Tech Support MVP\\\\\\\", \\\\\\\"url\\\\\\\": null, \\\\\\\"entities\\\\\\\": {\\\\\\\"description\\\\\\\": {\\\\\\\"urls\\\\\\\": []}}, \\\\\\\"protected\\\\\\\": false, \\\\\\\"followers_count\\\\\\\": 1033, \\\\\\\"friends_count\\\\\\\": 475, \\\\\\\"listed_count\\\\\\\": 40, \\\\\\\"created_at\\\\\\\": \\\\\\\"Wed Jun 17 18:24:23 +0000 2009\\\\\\\", \\\\\\\"favourites_count\\\\\\\": 15340, \\\\\\\"utc_offset\\\\\\\": null, \\\\\\\"time_zone\\\\\\\": null, \\\\\\\"geo_enabled\\\\\\\": false, \\\\\\\"verified\\\\\\\": false, \\\\\\\"statuses_count\\\\\\\": 57156, \\\\\\\"lang\\\\\\\": \\\\\\\"en\\\\\\\", \\\\\\\"contributors_enabled\\\\\\\": false, \\\\\\\"is_translator\\\\\\\": false, \\\\\\\"is_translation_enabled\\\\\\\": false, \\\\\\\"profile_background_color\\\\\\\": \\\\\\\"1A1B1F\\\\\\\", \\\\\\\"profile_background_image_url\\\\\\\": \\\\\\\"http://abs.twimg.com/images/themes/theme9/bg.gif\\\\\\\", \\\\\\\"profile_background_image_url_https\\\\\\\": \\\\\\\"https://abs.twimg.com/images/themes/theme9/bg.gif\\\\\\\", \\\\\\\"profile_background_tile\\\\\\\": false, \\\\\\\"profile_image_url\\\\\\\": \\\\\\\"http://pbs.twimg.com/profile_images/801860512220901377/5qw96jgB_normal.jpg\\\\\\\", \\\\\\\"profile_image_url_https\\\\\\\": \\\\\\\"https://pbs.twimg.com/profile_images/801860512220901377/5qw96jgB_normal.jpg\\\\\\\", \\\\\\\"profile_banner_url\\\\\\\": \\\\\\\"https://pbs.twimg.com/profile_banners/48058862/1479691314\\\\\\\", \\\\\\\"profile_link_color\\\\\\\": \\\\\\\"2FC2EF\\\\\\\", \\\\\\\"profile_sidebar_border_color\\\\\\\": \\\\\\\"181A1E\\\\\\\", \\\\\\\"profile_sidebar_fill_color\\\\\\\": \\\\\\\"252429\\\\\\\", \\\\\\\"profile_text_color\\\\\\\": \\\\\\\"666666\\\\\\\", \\\\\\\"profile_use_background_image\\\\\\\": true, \\\\\\\"has_extended_profile\\\\\\\": true, \\\\\\\"default_profile\\\\\\\": false, \\\\\\\"default_profile_image\\\\\\\": false, \\\\\\\"following\\\\\\\": false, \\\\\\\"follow_request_sent\\\\\\\": false, \\\\\\\"notifications\\\\\\\": false, \\\\\\\"translator_type\\\\\\\": \\\\\\\"none\\\\\\\"}\\\", \\\"geo\\\": null, \\\"coordinates\\\": null, \\\"place\\\": null, \\\"contributors\\\": null, \\\"is_quote_status\\\": false, \\\"possibly_sensitive\\\": false}\"\n",
    "j = json.loads(j)"
   ]
  },
  {
   "cell_type": "code",
   "execution_count": null,
   "metadata": {},
   "outputs": [],
   "source": [
    "for k in j.keys():\n",
    "    print (k)"
   ]
  },
  {
   "cell_type": "code",
   "execution_count": null,
   "metadata": {},
   "outputs": [],
   "source": [
    "# j['metadata']\n",
    "\n",
    "# j['contributors']\n",
    "\n",
    "# j['is_quote_status']\n",
    "\n",
    "# j['geo']\n"
   ]
  },
  {
   "cell_type": "markdown",
   "metadata": {},
   "source": [
    "# Extracting user"
   ]
  },
  {
   "cell_type": "code",
   "execution_count": 19,
   "metadata": {
    "ExecuteTime": {
     "end_time": "2018-08-10T23:29:21.287132Z",
     "start_time": "2018-08-10T23:29:21.282164Z"
    },
    "scrolled": true
   },
   "outputs": [
    {
     "data": {
      "text/plain": [
       "{'id': 48058862,\n",
       " 'id_str': '48058862',\n",
       " 'name': 'Teresa',\n",
       " 'screen_name': 'RessyM',\n",
       " 'location': 'Toronto, Ontario',\n",
       " 'description': 'WoW Addon Maintainer (ARL & Collectinator), Curse/Twitch: RessyM\\nBlizzard Tech Support MVP',\n",
       " 'url': None,\n",
       " 'entities': {'description': {'urls': []}},\n",
       " 'protected': False,\n",
       " 'followers_count': 1033,\n",
       " 'friends_count': 475,\n",
       " 'listed_count': 40,\n",
       " 'created_at': 'Wed Jun 17 18:24:23 +0000 2009',\n",
       " 'favourites_count': 15340,\n",
       " 'utc_offset': None,\n",
       " 'time_zone': None,\n",
       " 'geo_enabled': False,\n",
       " 'verified': False,\n",
       " 'statuses_count': 57156,\n",
       " 'lang': 'en',\n",
       " 'contributors_enabled': False,\n",
       " 'is_translator': False,\n",
       " 'is_translation_enabled': False,\n",
       " 'profile_background_color': '1A1B1F',\n",
       " 'profile_background_image_url': 'http://abs.twimg.com/images/themes/theme9/bg.gif',\n",
       " 'profile_background_image_url_https': 'https://abs.twimg.com/images/themes/theme9/bg.gif',\n",
       " 'profile_background_tile': False,\n",
       " 'profile_image_url': 'http://pbs.twimg.com/profile_images/801860512220901377/5qw96jgB_normal.jpg',\n",
       " 'profile_image_url_https': 'https://pbs.twimg.com/profile_images/801860512220901377/5qw96jgB_normal.jpg',\n",
       " 'profile_banner_url': 'https://pbs.twimg.com/profile_banners/48058862/1479691314',\n",
       " 'profile_link_color': '2FC2EF',\n",
       " 'profile_sidebar_border_color': '181A1E',\n",
       " 'profile_sidebar_fill_color': '252429',\n",
       " 'profile_text_color': '666666',\n",
       " 'profile_use_background_image': True,\n",
       " 'has_extended_profile': True,\n",
       " 'default_profile': False,\n",
       " 'default_profile_image': False,\n",
       " 'following': False,\n",
       " 'follow_request_sent': False,\n",
       " 'notifications': False,\n",
       " 'translator_type': 'none'}"
      ]
     },
     "execution_count": 19,
     "metadata": {},
     "output_type": "execute_result"
    }
   ],
   "source": [
    "u = json.loads(j['user'])\n",
    "u"
   ]
  },
  {
   "cell_type": "code",
   "execution_count": 4,
   "metadata": {
    "ExecuteTime": {
     "end_time": "2018-08-10T23:03:08.614534Z",
     "start_time": "2018-08-10T23:03:08.600905Z"
    }
   },
   "outputs": [
    {
     "data": {
      "text/plain": [
       "<TwitterDatabase.Models.TweetORM.User at 0x10f918c88>"
      ]
     },
     "execution_count": 4,
     "metadata": {},
     "output_type": "execute_result"
    }
   ],
   "source": [
    "user = UserFactory(u)\n",
    "user"
   ]
  },
  {
   "cell_type": "code",
   "execution_count": 5,
   "metadata": {
    "ExecuteTime": {
     "end_time": "2018-08-10T23:03:15.265360Z",
     "start_time": "2018-08-10T23:03:15.260545Z"
    }
   },
   "outputs": [
    {
     "data": {
      "text/plain": [
       "'WoW Addon Maintainer (ARL & Collectinator), Curse/Twitch: RessyM\\nBlizzard Tech Support MVP'"
      ]
     },
     "execution_count": 5,
     "metadata": {},
     "output_type": "execute_result"
    }
   ],
   "source": [
    "user.description"
   ]
  },
  {
   "cell_type": "code",
   "execution_count": 6,
   "metadata": {
    "ExecuteTime": {
     "end_time": "2018-08-10T23:03:20.492467Z",
     "start_time": "2018-08-10T23:03:20.487921Z"
    }
   },
   "outputs": [
    {
     "data": {
      "text/plain": [
       "1033"
      ]
     },
     "execution_count": 6,
     "metadata": {},
     "output_type": "execute_result"
    }
   ],
   "source": [
    "user.followers_count"
   ]
  },
  {
   "cell_type": "code",
   "execution_count": 35,
   "metadata": {
    "ExecuteTime": {
     "end_time": "2018-08-10T23:42:12.299037Z",
     "start_time": "2018-08-10T23:42:12.291526Z"
    }
   },
   "outputs": [],
   "source": [
    "def extract_user_dict_from_tweet(tweet: Tweet):\n",
    "    \"\"\"Takes the other_data field from a tweet object and \n",
    "    extracts the data for the user from it.\n",
    "    It returns a dictionary rather than a User model object\n",
    "    because we might want to try looking up whether the user \n",
    "    exists before creating a new user object.\n",
    "    \n",
    "    :type tweet Tweet\n",
    "    :returns dict\n",
    "    \"\"\"\n",
    "    if tweet.other_data and len(tweet.other_data) > 0:\n",
    "        # extract the json\n",
    "        j = json.loads(tweet.other_data)\n",
    "        # extract the user json from the created dict\n",
    "        u = json.loads(j['user'])\n",
    "        return u\n",
    "\n",
    "    \n",
    "# Test\n",
    "tweet = Tweet()\n",
    "# check where no other data\n",
    "assert(isinstance(extract_user_dict_from_tweet(tweet), type(None)))\n",
    "# check happy path\n",
    "tweet.other_data = \"{\\\"id\\\": 1013218630740238336, \\\"id_str\\\": \\\"1013218630740238336\\\", \\\"text\\\": \\\"Works for me.. Was a pain in the ass anyways waiting the extra time for the prescription to be filled to find out i\\\\u2026 https://t.co/XNW11OrC0p\\\", \\\"truncated\\\": true, \\\"entities\\\": \\\"{\\\\\\\"hashtags\\\\\\\": [], \\\\\\\"symbols\\\\\\\": [], \\\\\\\"user_mentions\\\\\\\": [], \\\\\\\"urls\\\\\\\": [{\\\\\\\"url\\\\\\\": \\\\\\\"https://t.co/XNW11OrC0p\\\\\\\", \\\\\\\"expanded_url\\\\\\\": \\\\\\\"https://twitter.com/i/web/status/1013218630740238336\\\\\\\", \\\\\\\"display_url\\\\\\\": \\\\\\\"twitter.com/i/web/status/1\\\\\\\\u2026\\\\\\\", \\\\\\\"indices\\\\\\\": [117, 140]}]}\\\", \\\"metadata\\\": \\\"{\\\\\\\"iso_language_code\\\\\\\": \\\\\\\"en\\\\\\\", \\\\\\\"result_type\\\\\\\": \\\\\\\"recent\\\\\\\"}\\\", \\\"in_reply_to_status_id\\\": null, \\\"in_reply_to_status_id_str\\\": null, \\\"in_reply_to_user_id\\\": null, \\\"in_reply_to_user_id_str\\\": null, \\\"user\\\": \\\"{\\\\\\\"id\\\\\\\": 48058862, \\\\\\\"id_str\\\\\\\": \\\\\\\"48058862\\\\\\\", \\\\\\\"name\\\\\\\": \\\\\\\"Teresa\\\\\\\", \\\\\\\"screen_name\\\\\\\": \\\\\\\"RessyM\\\\\\\", \\\\\\\"location\\\\\\\": \\\\\\\"Toronto, Ontario\\\\\\\", \\\\\\\"description\\\\\\\": \\\\\\\"WoW Addon Maintainer (ARL & Collectinator), Curse/Twitch: RessyM\\\\\\\\nBlizzard Tech Support MVP\\\\\\\", \\\\\\\"url\\\\\\\": null, \\\\\\\"entities\\\\\\\": {\\\\\\\"description\\\\\\\": {\\\\\\\"urls\\\\\\\": []}}, \\\\\\\"protected\\\\\\\": false, \\\\\\\"followers_count\\\\\\\": 1033, \\\\\\\"friends_count\\\\\\\": 475, \\\\\\\"listed_count\\\\\\\": 40, \\\\\\\"created_at\\\\\\\": \\\\\\\"Wed Jun 17 18:24:23 +0000 2009\\\\\\\", \\\\\\\"favourites_count\\\\\\\": 15340, \\\\\\\"utc_offset\\\\\\\": null, \\\\\\\"time_zone\\\\\\\": null, \\\\\\\"geo_enabled\\\\\\\": false, \\\\\\\"verified\\\\\\\": false, \\\\\\\"statuses_count\\\\\\\": 57156, \\\\\\\"lang\\\\\\\": \\\\\\\"en\\\\\\\", \\\\\\\"contributors_enabled\\\\\\\": false, \\\\\\\"is_translator\\\\\\\": false, \\\\\\\"is_translation_enabled\\\\\\\": false, \\\\\\\"profile_background_color\\\\\\\": \\\\\\\"1A1B1F\\\\\\\", \\\\\\\"profile_background_image_url\\\\\\\": \\\\\\\"http://abs.twimg.com/images/themes/theme9/bg.gif\\\\\\\", \\\\\\\"profile_background_image_url_https\\\\\\\": \\\\\\\"https://abs.twimg.com/images/themes/theme9/bg.gif\\\\\\\", \\\\\\\"profile_background_tile\\\\\\\": false, \\\\\\\"profile_image_url\\\\\\\": \\\\\\\"http://pbs.twimg.com/profile_images/801860512220901377/5qw96jgB_normal.jpg\\\\\\\", \\\\\\\"profile_image_url_https\\\\\\\": \\\\\\\"https://pbs.twimg.com/profile_images/801860512220901377/5qw96jgB_normal.jpg\\\\\\\", \\\\\\\"profile_banner_url\\\\\\\": \\\\\\\"https://pbs.twimg.com/profile_banners/48058862/1479691314\\\\\\\", \\\\\\\"profile_link_color\\\\\\\": \\\\\\\"2FC2EF\\\\\\\", \\\\\\\"profile_sidebar_border_color\\\\\\\": \\\\\\\"181A1E\\\\\\\", \\\\\\\"profile_sidebar_fill_color\\\\\\\": \\\\\\\"252429\\\\\\\", \\\\\\\"profile_text_color\\\\\\\": \\\\\\\"666666\\\\\\\", \\\\\\\"profile_use_background_image\\\\\\\": true, \\\\\\\"has_extended_profile\\\\\\\": true, \\\\\\\"default_profile\\\\\\\": false, \\\\\\\"default_profile_image\\\\\\\": false, \\\\\\\"following\\\\\\\": false, \\\\\\\"follow_request_sent\\\\\\\": false, \\\\\\\"notifications\\\\\\\": false, \\\\\\\"translator_type\\\\\\\": \\\\\\\"none\\\\\\\"}\\\", \\\"geo\\\": null, \\\"coordinates\\\": null, \\\"place\\\": null, \\\"contributors\\\": null, \\\"is_quote_status\\\": false, \\\"possibly_sensitive\\\": false}\"\n",
    "assert(extract_user_dict_from_tweet(tweet)['id'] == 48058862)"
   ]
  },
  {
   "cell_type": "code",
   "execution_count": null,
   "metadata": {},
   "outputs": [],
   "source": [
    "def extract_and_save_user_from_tweet(tweet: Tweet):\n",
    "    \"\"\"Extracts the user data from the tweet's other_data json field\n",
    "    and saves a user object. If there already is a user with that id, it\n",
    "    updates their properties. Otherwise, it creates a new user object\n",
    "    :type tweet: Tweet\n",
    "    :returns User\n",
    "    \"\"\"\n",
    "    # Should try to load and update existing user first\n",
    "    userId = tweet.userID\n",
    "    \n",
    "    # make user from the json\n",
    "    user = UserFactory(u)\n",
    "    return user\n"
   ]
  },
  {
   "cell_type": "code",
   "execution_count": null,
   "metadata": {},
   "outputs": [],
   "source": []
  }
 ],
 "metadata": {
  "kernelspec": {
   "display_name": "Python 3",
   "language": "python",
   "name": "python3"
  },
  "language_info": {
   "codemirror_mode": {
    "name": "ipython",
    "version": 3
   },
   "file_extension": ".py",
   "mimetype": "text/x-python",
   "name": "python",
   "nbconvert_exporter": "python",
   "pygments_lexer": "ipython3",
   "version": "3.6.4"
  },
  "latex_envs": {
   "LaTeX_envs_menu_present": true,
   "autoclose": false,
   "autocomplete": true,
   "bibliofile": "biblio.bib",
   "cite_by": "apalike",
   "current_citInitial": 1,
   "eqLabelWithNumbers": true,
   "eqNumInitial": 1,
   "hotkeys": {
    "equation": "Ctrl-E",
    "itemize": "Ctrl-I"
   },
   "labels_anchors": false,
   "latex_user_defs": false,
   "report_style_numbering": false,
   "user_envs_cfg": false
  },
  "toc": {
   "base_numbering": 1,
   "nav_menu": {},
   "number_sections": true,
   "sideBar": true,
   "skip_h1_title": false,
   "title_cell": "Table of Contents",
   "title_sidebar": "Contents",
   "toc_cell": false,
   "toc_position": {},
   "toc_section_display": true,
   "toc_window_display": false
  }
 },
 "nbformat": 4,
 "nbformat_minor": 2
}
