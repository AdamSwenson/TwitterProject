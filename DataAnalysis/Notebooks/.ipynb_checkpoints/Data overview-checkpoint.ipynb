{
 "cells": [
  {
   "cell_type": "markdown",
   "metadata": {},
   "source": [
    "This notebook is for visualizing large-scale properties of the dataset"
   ]
  },
  {
   "cell_type": "code",
   "execution_count": 1,
   "metadata": {
    "ExecuteTime": {
     "end_time": "2018-08-17T21:30:04.573926Z",
     "start_time": "2018-08-17T21:30:03.675670Z"
    }
   },
   "outputs": [
    {
     "name": "stderr",
     "output_type": "stream",
     "text": [
      "/Users/adam/.pyenv/versions/3.6.4/lib/python3.6/importlib/_bootstrap.py:219: RuntimeWarning: numpy.dtype size changed, may indicate binary incompatibility. Expected 96, got 88\n",
      "  return f(*args, **kwds)\n",
      "/Users/adam/.pyenv/versions/3.6.4/lib/python3.6/importlib/_bootstrap.py:219: RuntimeWarning: numpy.dtype size changed, may indicate binary incompatibility. Expected 96, got 88\n",
      "  return f(*args, **kwds)\n"
     ]
    },
    {
     "name": "stdout",
     "output_type": "stream",
     "text": [
      "(bookmark:twitterproject) -> /Users/adam/Dropbox/PainNarrativesLab/TwitterProject\n",
      "/Users/adam/Dropbox/PainNarrativesLab/TwitterProject\n",
      "Reading configuration from /Users/adam/Dropbox/PainNarrativesLab/TwitterProject/configurations/testing.config.ini\n"
     ]
    }
   ],
   "source": [
    "import pandas as pd\n",
    "\n",
    "#Plotting \n",
    "%matplotlib inline\n",
    "from matplotlib import pyplot as plt\n",
    "import seaborn as sns\n",
    "sns.set(style=\"whitegrid\")\n",
    "\n",
    "\n",
    "%cd twitterproject\n",
    "# inject config value (on command line would've been --config=data-analysis)\n",
    "import sys\n",
    "# args = ['--config', 'data-analysis']\n",
    "args = ['--config', 'laptop-mining']\n",
    "old_sys_argv = sys.argv\n",
    "sys.argv = [old_sys_argv[0]] + args\n",
    "import environment\n",
    "\n",
    "from TwitterDatabase.Repositories import DataRepositories as DR\n",
    "from TwitterDatabase.DatabaseAccessObjects import DataConnections as DC\n",
    "from TwitterDatabase.Models.WordORM import Word\n",
    "from TwitterDatabase.Models.TweetORM import Users as User\n",
    "from TwitterDatabase.Models.TweetORM import Tweet\n",
    "from DataAnalysis.SearchTools.WordMaps import get_adjacent_word_counts, get_adjacent_words, get_user_ids_for_word\n",
    "\n",
    "EXP_TERMS_FILEPATH = '%s/experimental-terms.xlsx' % environment.EXPERIMENTS_FOLDER\n",
    "IDS_FILEPATH = \"%s/temp_output/user-ids.xlsx\" % environment.LOG_FOLDER_PATH\n"
   ]
  },
  {
   "cell_type": "code",
   "execution_count": null,
   "metadata": {
    "ExecuteTime": {
     "end_time": "2018-08-17T21:29:42.048010Z",
     "start_time": "2018-08-17T21:29:42.043953Z"
    }
   },
   "outputs": [],
   "source": [
    "dao = DC.MySqlConnection(environment.CREDENTIAL_FILE)"
   ]
  },
  {
   "cell_type": "markdown",
   "metadata": {},
   "source": [
    "# Number of distinct users whose tweets we have captured"
   ]
  },
  {
   "cell_type": "code",
   "execution_count": null,
   "metadata": {
    "ExecuteTime": {
     "end_time": "2018-08-17T21:27:21.244069Z",
     "start_time": "2018-08-17T21:27:15.999911Z"
    }
   },
   "outputs": [],
   "source": [
    "data = pd.read_sql_query(\"select tweetID, userID from tweets\", dao.engine) #, index_col='tweetID')\n",
    "print(\"Loaded %s tweets\" % len(data))"
   ]
  },
  {
   "cell_type": "code",
   "execution_count": null,
   "metadata": {
    "ExecuteTime": {
     "end_time": "2018-08-17T21:27:40.811693Z",
     "start_time": "2018-08-17T21:27:21.245907Z"
    }
   },
   "outputs": [],
   "source": [
    "userCount = len(data.groupby('userID').groups)\n",
    "print(\"Captured tweets from %s distinct users\" % userCount)"
   ]
  },
  {
   "cell_type": "markdown",
   "metadata": {},
   "source": [
    "# Number of tweets per user\n",
    "\n",
    "## All results"
   ]
  },
  {
   "cell_type": "code",
   "execution_count": null,
   "metadata": {
    "ExecuteTime": {
     "end_time": "2018-08-17T21:27:41.154089Z",
     "start_time": "2018-08-17T21:27:40.813635Z"
    }
   },
   "outputs": [],
   "source": [
    "tweetsPerUser = data.groupby('userID').size()\n",
    "tweetsPerUser.describe()"
   ]
  },
  {
   "cell_type": "code",
   "execution_count": null,
   "metadata": {
    "ExecuteTime": {
     "end_time": "2018-08-17T21:27:42.568580Z",
     "start_time": "2018-08-17T21:27:41.156098Z"
    }
   },
   "outputs": [],
   "source": [
    "sns.distplot(tweetsPerUser)"
   ]
  },
  {
   "cell_type": "markdown",
   "metadata": {},
   "source": [
    "## Trimmed results"
   ]
  },
  {
   "cell_type": "code",
   "execution_count": null,
   "metadata": {
    "ExecuteTime": {
     "end_time": "2018-08-17T21:27:42.587340Z",
     "start_time": "2018-08-17T21:27:42.570481Z"
    }
   },
   "outputs": [],
   "source": [
    "MAX_PER_USER = 20\n",
    "trimmed = tweetsPerUser[tweetsPerUser.between(1, MAX_PER_USER)]"
   ]
  },
  {
   "cell_type": "code",
   "execution_count": null,
   "metadata": {
    "ExecuteTime": {
     "end_time": "2018-08-17T21:27:42.640270Z",
     "start_time": "2018-08-17T21:27:42.589633Z"
    }
   },
   "outputs": [],
   "source": [
    "trimmed.describe()"
   ]
  },
  {
   "cell_type": "code",
   "execution_count": null,
   "metadata": {
    "ExecuteTime": {
     "end_time": "2018-08-17T21:27:44.100672Z",
     "start_time": "2018-08-17T21:27:42.642629Z"
    }
   },
   "outputs": [],
   "source": [
    "fig, axes = plt.subplots(figsize=(5,4))\n",
    "sns.distplot(trimmed, ax=axes)\n",
    "axes.set_title(\"Tweets per user (trimmed at %s)\" % MAX_PER_USER); fig.tight_layout()"
   ]
  },
  {
   "cell_type": "code",
   "execution_count": null,
   "metadata": {
    "ExecuteTime": {
     "end_time": "2018-08-17T21:27:46.083068Z",
     "start_time": "2018-08-17T21:27:44.102765Z"
    }
   },
   "outputs": [],
   "source": [
    "fig, axes = plt.subplots(ncols=2, figsize=(10,4))\n",
    "sns.violinplot(trimmed, ax=axes[0])\n",
    "sns.boxplot(trimmed, ax=axes[1])\n",
    "axes[0].set_title(\"Tweets per user (trimmed at %s)\" % MAX_PER_USER); \n",
    "fig.tight_layout()"
   ]
  },
  {
   "cell_type": "code",
   "execution_count": null,
   "metadata": {},
   "outputs": [],
   "source": []
  },
  {
   "cell_type": "markdown",
   "metadata": {},
   "source": [
    "# Temporal distibution of captured tweets"
   ]
  },
  {
   "cell_type": "code",
   "execution_count": null,
   "metadata": {
    "ExecuteTime": {
     "end_time": "2018-08-17T21:27:49.408959Z",
     "start_time": "2018-08-17T21:27:46.085047Z"
    }
   },
   "outputs": [],
   "source": [
    "timeData = pd.read_sql_query(\"select created_at from tweets\", dao.engine) #, index_col='tweetID')\n",
    "print(\"Loaded %s tweets\" % len(timeData))"
   ]
  },
  {
   "cell_type": "code",
   "execution_count": null,
   "metadata": {
    "ExecuteTime": {
     "start_time": "2018-08-17T21:27:18.198Z"
    }
   },
   "outputs": [],
   "source": [
    "# convert to timestamps (takes a long time)\n",
    "timeData['created_at'] = timeData.apply(lambda x : pd.Timestamp(x.created_at), axis=1)\n",
    "# add extra column to help with plotting\n",
    "timeData['tweet'] = 1"
   ]
  },
  {
   "cell_type": "code",
   "execution_count": null,
   "metadata": {
    "ExecuteTime": {
     "start_time": "2018-08-17T21:27:18.365Z"
    }
   },
   "outputs": [],
   "source": [
    "timeData[:5]"
   ]
  },
  {
   "cell_type": "markdown",
   "metadata": {},
   "source": [
    "## Monthly tweet count summary"
   ]
  },
  {
   "cell_type": "code",
   "execution_count": null,
   "metadata": {
    "ExecuteTime": {
     "start_time": "2018-08-17T21:27:19.263Z"
    }
   },
   "outputs": [],
   "source": [
    "# monthly\n",
    "monthly = timeData.set_index('created_at').resample('1M').sum()\n",
    "# weekly\n",
    "# tt = timeData.set_index('created_at').resample('1W').sum()"
   ]
  },
  {
   "cell_type": "code",
   "execution_count": null,
   "metadata": {
    "ExecuteTime": {
     "start_time": "2018-08-17T21:27:19.477Z"
    },
    "scrolled": true
   },
   "outputs": [],
   "source": [
    "monthly.describe()"
   ]
  },
  {
   "cell_type": "code",
   "execution_count": null,
   "metadata": {
    "ExecuteTime": {
     "start_time": "2018-08-17T21:27:19.998Z"
    }
   },
   "outputs": [],
   "source": [
    "fig, axes = plt.subplots(figsize=(15,5))\n",
    "tt.plot(kind='bar', ax=axes)\n",
    "axes.set_title('Tweet creation dates by month'); axes.set_ylabel(\"# tweets\")\n",
    "fig.tight_layout()"
   ]
  },
  {
   "cell_type": "code",
   "execution_count": null,
   "metadata": {},
   "outputs": [],
   "source": []
  },
  {
   "cell_type": "code",
   "execution_count": null,
   "metadata": {},
   "outputs": [],
   "source": []
  },
  {
   "cell_type": "code",
   "execution_count": null,
   "metadata": {
    "ExecuteTime": {
     "end_time": "2018-08-10T21:42:47.310917Z",
     "start_time": "2018-08-10T21:42:47.268572Z"
    }
   },
   "outputs": [],
   "source": [
    "from bokeh.palettes import Spectral6, Category20, magma, inferno, viridis\n",
    "\n",
    "def color_generator(num_colors, palette_function=viridis):\n",
    "    \"\"\"Returns a color from the relevant palette\"\"\"\n",
    "    colorlist = palette_function(num_colors)\n",
    "    for c in colorlist:\n",
    "        yield c\n"
   ]
  },
  {
   "cell_type": "code",
   "execution_count": null,
   "metadata": {},
   "outputs": [],
   "source": [
    "def ticker():\n",
    "    \"\"\"Replaces the numeric y axis label with the correct term\n",
    "    The dict seems to need to be hardcoded since bokeh\n",
    "    messes with any args or values which seem like they should be \n",
    "    in scope\"\"\"\n",
    "    dd = {\n",
    "        1: 'crps',\n",
    "        2: 'migraine',\n",
    "        3: 'fibromyalgia',\n",
    "        4: 'spoonie',\n",
    "        5: 'vulvodynia',\n",
    "        6: 'endometriosis',\n",
    "        7: 'neuropathy',\n",
    "        8: 'arthritis',\n",
    "        9: 'rhem_arthritis',\n",
    "        10: 'shingles',\n",
    "        11: 'backpain',\n",
    "        12: 'headache'\n",
    "    }\n",
    "\n",
    "    term = dd.get( tick )\n",
    "    return \"{}\".format( term )\n"
   ]
  },
  {
   "cell_type": "code",
   "execution_count": null,
   "metadata": {
    "ExecuteTime": {
     "end_time": "2018-08-10T21:48:33.318681Z",
     "start_time": "2018-08-10T21:48:33.311922Z"
    }
   },
   "outputs": [],
   "source": [
    "from bokeh.io import show\n",
    "from bokeh.models import ColumnDataSource\n",
    "from bokeh.plotting import figure\n",
    "from bokeh.sampledata.commits import data\n",
    "from bokeh.transform import jitter\n",
    "\n",
    "from bokeh.plotting import *\n",
    "from bokeh.models import FuncTickFormatter\n",
    "from bokeh.models.tickers import FixedTicker\n",
    "\n",
    "\n",
    "def plot_tweet_distributions(frame, terms, title='tweet frequencies'):\n",
    "    colorgen = color_generator(1)\n",
    "    \n",
    "    color = next(colorgen)\n",
    "      \n",
    "    # initialize the notebook output\n",
    "    output_notebook()\n",
    "\n",
    "    # create a new plot with a title and axis labels\n",
    "    p = figure(title=title, \n",
    "               x_axis_type=\"datetime\", \n",
    "               plot_width=800, \n",
    "               plot_height=500, \n",
    "               x_axis_label='timestamp', \n",
    "               y_axis_label='tweet')\n",
    "\n",
    "    source = ColumnDataSource(frame)\n",
    "    p.circle(x='created_at', \n",
    "                 y=jitter('tweet', width=0.5, range=p.y_range), \n",
    "                 fill_color=color, \n",
    "                 source=source, \n",
    "                 alpha=0.6\n",
    "                )\n",
    "\n",
    "    p.x_range.range_padding = 0\n",
    "    p.ygrid.grid_line_color = None\n",
    "    p.legend.orientation = \"horizontal\"\n",
    "\n",
    "    # limit the displayed tick locations to those corresponding to the \n",
    "    # terms in the dataframe \n",
    "    tick_locations = [x for x in range(1, len(terms) + 1)]\n",
    "    p.yaxis.ticker = FixedTicker(ticks=tick_locations)\n",
    "\n",
    "    # Now add the labels instead of the numbers to the y axis\n",
    "#     p.yaxis.formatter = FuncTickFormatter.from_py_func(ticker)\n",
    "\n",
    "    # show the results\n",
    "    show(p)"
   ]
  },
  {
   "cell_type": "code",
   "execution_count": null,
   "metadata": {
    "ExecuteTime": {
     "end_time": "2018-08-10T21:48:38.061073Z",
     "start_time": "2018-08-10T21:48:33.686241Z"
    },
    "scrolled": true
   },
   "outputs": [],
   "source": [
    "plot_tweet_distributions(timeData, ['created_at'])"
   ]
  },
  {
   "cell_type": "markdown",
   "metadata": {},
   "source": [
    "# Users"
   ]
  },
  {
   "cell_type": "markdown",
   "metadata": {},
   "source": [
    "## Users with tons of followers\n",
    "\n",
    "These will often be celebrities"
   ]
  },
  {
   "cell_type": "code",
   "execution_count": null,
   "metadata": {
    "ExecuteTime": {
     "start_time": "2018-08-17T21:27:32.067Z"
    }
   },
   "outputs": [],
   "source": [
    "LIMIT = 25\n",
    "query = \"\"\"\n",
    "SELECT screen_name, followers_count, friends_count, statuses_count \n",
    "FROM users \n",
    "ORDER BY followers_count DESC \n",
    "LIMIT %s\"\"\" % LIMIT\n",
    "popular = pd.read_sql_query(query, dao.engine, index_col='screen_name')"
   ]
  },
  {
   "cell_type": "code",
   "execution_count": null,
   "metadata": {
    "ExecuteTime": {
     "start_time": "2018-08-17T21:27:32.738Z"
    }
   },
   "outputs": [],
   "source": [
    "popular"
   ]
  },
  {
   "cell_type": "code",
   "execution_count": null,
   "metadata": {},
   "outputs": [],
   "source": []
  },
  {
   "cell_type": "markdown",
   "metadata": {},
   "source": [
    "## By status count"
   ]
  },
  {
   "cell_type": "code",
   "execution_count": null,
   "metadata": {
    "ExecuteTime": {
     "end_time": "2018-08-14T01:26:43.116939Z",
     "start_time": "2018-08-14T01:26:42.393248Z"
    }
   },
   "outputs": [],
   "source": [
    "LIMIT = 25\n",
    "query = \"\"\"\n",
    "SELECT screen_name, followers_count, friends_count, statuses_count \n",
    "FROM users \n",
    "ORDER BY statuses_count DESC \n",
    "LIMIT %s\"\"\" % LIMIT\n",
    "freq = pd.read_sql_query(query, dao.engine, index_col='screen_name')"
   ]
  },
  {
   "cell_type": "code",
   "execution_count": null,
   "metadata": {
    "ExecuteTime": {
     "end_time": "2018-08-14T01:26:45.498240Z",
     "start_time": "2018-08-14T01:26:45.487445Z"
    }
   },
   "outputs": [],
   "source": [
    "freq"
   ]
  },
  {
   "cell_type": "code",
   "execution_count": null,
   "metadata": {},
   "outputs": [],
   "source": []
  },
  {
   "cell_type": "code",
   "execution_count": null,
   "metadata": {},
   "outputs": [],
   "source": []
  }
 ],
 "metadata": {
  "kernelspec": {
   "display_name": "Python 3",
   "language": "python",
   "name": "python3"
  },
  "language_info": {
   "codemirror_mode": {
    "name": "ipython",
    "version": 3
   },
   "file_extension": ".py",
   "mimetype": "text/x-python",
   "name": "python",
   "nbconvert_exporter": "python",
   "pygments_lexer": "ipython3",
   "version": "3.6.4"
  },
  "latex_envs": {
   "LaTeX_envs_menu_present": true,
   "autoclose": false,
   "autocomplete": true,
   "bibliofile": "biblio.bib",
   "cite_by": "apalike",
   "current_citInitial": 1,
   "eqLabelWithNumbers": true,
   "eqNumInitial": 1,
   "hotkeys": {
    "equation": "Ctrl-E",
    "itemize": "Ctrl-I"
   },
   "labels_anchors": false,
   "latex_user_defs": false,
   "report_style_numbering": false,
   "user_envs_cfg": false
  },
  "toc": {
   "base_numbering": 1,
   "nav_menu": {},
   "number_sections": true,
   "sideBar": true,
   "skip_h1_title": false,
   "title_cell": "Table of Contents",
   "title_sidebar": "Contents",
   "toc_cell": false,
   "toc_position": {},
   "toc_section_display": true,
   "toc_window_display": false
  }
 },
 "nbformat": 4,
 "nbformat_minor": 2
}
