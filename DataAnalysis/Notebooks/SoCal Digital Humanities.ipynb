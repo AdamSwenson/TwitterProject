{
 "cells": [
  {
   "cell_type": "code",
   "execution_count": 1,
   "metadata": {
    "collapsed": false,
    "run_control": {
     "frozen": false,
     "read_only": false
    }
   },
   "outputs": [
    {
     "name": "stdout",
     "output_type": "stream",
     "text": [
      "(bookmark:uscproject) -> /Users/adam/Dropbox/iPythonFiles/USCProject\n",
      "/Users/adam/Dropbox/iPythonFiles/USCProject\n"
     ]
    },
    {
     "ename": "ImportError",
     "evalue": "No module named ConditionsServiceClasses",
     "output_type": "error",
     "traceback": [
      "\u001b[0;31m---------------------------------------------------------------------------\u001b[0m\n\u001b[0;31mImportError\u001b[0m                               Traceback (most recent call last)",
      "\u001b[0;32m<ipython-input-1-4513f5222b3b>\u001b[0m in \u001b[0;36m<module>\u001b[0;34m()\u001b[0m\n\u001b[1;32m     10\u001b[0m \u001b[0;32mfrom\u001b[0m \u001b[0mIOMDataService\u001b[0m \u001b[0;32mimport\u001b[0m \u001b[0mShelveDataHandler\u001b[0m\u001b[0;34m\u001b[0m\u001b[0m\n\u001b[1;32m     11\u001b[0m \u001b[0;32mimport\u001b[0m \u001b[0mIOMDataService\u001b[0m \u001b[0;32mas\u001b[0m \u001b[0mDS\u001b[0m\u001b[0;34m\u001b[0m\u001b[0m\n\u001b[0;32m---> 12\u001b[0;31m \u001b[0;32mimport\u001b[0m \u001b[0mConditionsServiceClasses\u001b[0m \u001b[0;32mas\u001b[0m \u001b[0mCSC\u001b[0m\u001b[0;34m\u001b[0m\u001b[0m\n\u001b[0m\u001b[1;32m     13\u001b[0m \u001b[0;34m\u001b[0m\u001b[0m\n\u001b[1;32m     14\u001b[0m \u001b[0;31m#Searching\u001b[0m\u001b[0;34m\u001b[0m\u001b[0;34m\u001b[0m\u001b[0m\n",
      "\u001b[0;31mImportError\u001b[0m: No module named ConditionsServiceClasses"
     ]
    }
   ],
   "source": [
    "from __future__ import division\n",
    "%cd uscproject\n",
    "#Generic system tools\n",
    "import re, pprint, sys, json, os, shutil, webbrowser\n",
    "\n",
    "#Language processing\n",
    "import nltk\n",
    "\n",
    "#Saving and retrieving data\n",
    "from IOMDataService import ShelveDataHandler\n",
    "import IOMDataService as DS\n",
    "import ConditionsServiceClasses as CSC\n",
    "\n",
    "#Searching\n",
    "import SphinxService as SPX\n",
    "\n",
    "#Data analysis and plotting\n",
    "from pandas import *\n",
    "import pandas as pd\n",
    "import numpy as np\n",
    "import matplotlib.pyplot as plt\n",
    "import networkx as nx\n",
    "import pydot\n",
    "import pygraphviz\n",
    "\n",
    "#Classification/clustering\n",
    "from cosineSimilarity import cosine_simiarlity_analyzer\n",
    "\n",
    "#Text filtration/stemming/tokenizing\n",
    "import TextFiltration as TF\n",
    "from TextFiltration import Words, Bigrams\n",
    "param = {'replaceContractions' : 'True', 'removePunctuation' : 'True', 'removeStops' : 'True', 'removeNumerals' : 'True'}\n",
    "\n",
    "#Formatting ipython\n",
    "import IPython\n",
    "from IPython.core.display import HTML\n",
    "from IPython.display import SVG\n",
    "from IPython.display import Image\n",
    "from IPython.display import HTML\n",
    "from IPython.display import display_html\n",
    "HTML(\"\"\"\n",
    "        <style type=\"text/css\">\n",
    "            table.nowrap {\n",
    "                margin-right: 80px;\n",
    "            }\n",
    "            table.dataframe {\n",
    "                margin-right: 80px;\n",
    "            }\n",
    "        </style>\"\"\")\n",
    "\n",
    "#Initialize service classes\n",
    "DH = DS.ShelveDataHandler()\n",
    "CN = CSC.ConditionsService('false')"
   ]
  },
  {
   "cell_type": "markdown",
   "metadata": {
    "run_control": {
     "frozen": false,
     "read_only": false
    }
   },
   "source": [
    "#Backstory\n",
    "In putting together 2011's __Relieving pain in America: A Blueprint for Transforming Prevention, Care, Education, and Research__ the Institute Of Medicine conducted an online survey for healthcare providers, pain patients, and their friends and family to report their experiences with American pain medicine.\n",
    "\n",
    "![Alt iomreport](http://images.nap.edu/images/cover.php?id=13172)\n",
    "\n",
    "Dr. Steven Richeimer of the USC Pain Center obtained the raw results. He asked me if I'd like to work on a project to analyze the narratives. \n",
    "\n",
    "Unfortunately, as you can see from running the query below a couple of times, the answers varied widely. \n",
    "\n",
    "Moreover, there were six questions in the survey form. The prompts were usually ignored. There was very little order to the data to begin with.\n"
   ]
  },
  {
   "cell_type": "code",
   "execution_count": 3,
   "metadata": {
    "collapsed": false,
    "run_control": {
     "frozen": false,
     "read_only": false
    }
   },
   "outputs": [
    {
     "data": {
      "text/html": [
       "1.  Education 2.  Open minded practice--free of unnecessary shackles of drug companies and lobbyists who control medical care 3.  Try treatments that have been proven to work by MDs specializing in the field. For example, my fibromyagia pain was almost completely relieved by treatment with desiccated thyroid, yet most MDs have not heard of it, or they are quick to dismiss it as \"old technology\"\". Well--it works"
      ],
      "text/plain": [
       "<IPython.core.display.HTML at 0x11353ac90>"
      ]
     },
     "metadata": {},
     "output_type": "display_data"
    },
    {
     "name": "stdout",
     "output_type": "stream",
     "text": [
      "---------------------------\n"
     ]
    },
    {
     "data": {
      "text/html": [
       "I feel that the insurance companies should & could pay for more effective treatments for our \"specific\"\" conditions because people with Fibromyalgia have different needs when it comes to this. For example: Spa treatments to calm the Central Nervous System"
      ],
      "text/plain": [
       "<IPython.core.display.HTML at 0x11353ac90>"
      ]
     },
     "metadata": {},
     "output_type": "display_data"
    },
    {
     "name": "stdout",
     "output_type": "stream",
     "text": [
      "---------------------------\n"
     ]
    },
    {
     "data": {
      "text/html": [
       "MIsdiagnosis and also the fact that if doctors don't find the disease or the cause of the pain that is obvious, do they do not take the time to research and look for answers.  They figure they will send you on your way, and you will get better or die.  \"Even you hear hoove beats"
      ],
      "text/plain": [
       "<IPython.core.display.HTML at 0x11353ac90>"
      ]
     },
     "metadata": {},
     "output_type": "display_data"
    },
    {
     "name": "stdout",
     "output_type": "stream",
     "text": [
      "---------------------------\n"
     ]
    }
   ],
   "source": [
    "def randomQuotes():\n",
    "    Q = DS.QueryShell()\n",
    "    qy = \"SELECT quoteText FROM testimony ORDER BY RAND() LIMIT 3\"\n",
    "    Q.query(qy, [])\n",
    "    Q.returnAll()\n",
    "    display(HTML(Q.dbdata[0]['quoteText']))\n",
    "i=0\n",
    "for i in range(3):\n",
    "    randomQuotes()\n",
    "    print '---------------------------'\n",
    "    i += 1"
   ]
  },
  {
   "cell_type": "markdown",
   "metadata": {
    "run_control": {
     "frozen": false,
     "read_only": false
    }
   },
   "source": [
    "We're (mostly) interested in the testimonies of people with pain conditions. Unfortunately, the IOM survey did not ask whether a whether the respondent was a clinician, a chronic pain patient, or otherwise a stakeholder in pain care (demographic information would've been nice too). \n",
    "\n",
    "Using MySQL and profanity, I eventually sorted the records into three groups: \n",
    ">**Patients** \n",
    "\n",
    "> * A respondent is a *patient* if she reports experiences from the point of view of a person experiencing pain or seeking treatment for pain.\n",
    "\n",
    ">**Providers**\n",
    "\n",
    "> * A respondent is a *provider* if she reports experiences from the point of view of a person providing treatment for pain. This includes medical professionals, parents, children, et cetera.\n",
    "\n",
    ">**Uncategorized**\n",
    "\n",
    "> * Respondents which couldn't be categorized as a patient or a provider.\n",
    "\n",
    "There was some overlap between the patients and providers. For example,"
   ]
  },
  {
   "cell_type": "code",
   "execution_count": 4,
   "metadata": {
    "collapsed": false,
    "run_control": {
     "frozen": false,
     "read_only": false
    }
   },
   "outputs": [
    {
     "data": {
      "text/plain": [
       "[{'quoteText': 'From personal experience, I can attest to the lack of research, knowledge, and focus on pelvic pain disorders in women.  I suffer from vestibulodynia and find that my doctors are well-intentioned but have little solid research to base their treatment decisions on.'},\n",
       " {'quoteText': 'I am a registered nurse in a program to become a Family Nurse Practitioner.  I have so far only been ancillary to patients with chronic pain but know they all have stories of the frustrating long slow road to finding relief.....in the hospital in my role as a acute care nurse, I see many doctors take people off of their regular pain control regimens.  Sometimes the reasons seem justified; often they do not - but seem to stem from narcophobia.  These patients, who have specialists in pain control in their regular lives, and who probably spent years arriving at a regimen that works, are then taken off of those drugs and told to \"suck it up.\"\"  It is very hard to watch.  It is my strong opinion that doctors that work in acute care need education and training in chronic pain conditions.\"'}]"
      ]
     },
     "metadata": {},
     "output_type": "display_data"
    }
   ],
   "source": [
    "Q = DS.QueryShell()\n",
    "qy = \"SELECT quoteText FROM testimony WHERE quoteID = 1889 OR quoteID = 1891\"\n",
    "display_html(Q.query(qy, []))"
   ]
  },
  {
   "cell_type": "markdown",
   "metadata": {
    "run_control": {
     "frozen": false,
     "read_only": false
    }
   },
   "source": [
    "We had **2007 unique respondents**, of whom:\n",
    "\n",
    "> **1369** were classified as **patients**\n",
    "\n",
    "> **99** were classified as **providers**\n",
    "\n",
    "> **25** were classified as **both** a patient and a provider\n",
    "\n",
    "> **564** were classified as **neither** a patient nor a provider\n",
    "\n",
    "From these respondents, we had **4,859** vignettes. **3,864** were from **patients**."
   ]
  },
  {
   "cell_type": "markdown",
   "metadata": {
    "run_control": {
     "frozen": false,
     "read_only": false
    }
   },
   "source": [
    "# Classification: Do patients with different conditions use different language?"
   ]
  },
  {
   "cell_type": "markdown",
   "metadata": {
    "run_control": {
     "frozen": false,
     "read_only": false
    }
   },
   "source": [
    "Given that chronic pain conditions affect a person's life in different ways, there might be similarities between the testimonials of patients reporting similar conditions. \n",
    "\n",
    "We can treat this as a classification task. That is, we first give an algorithm a subset of testimonials from patients with identified conditions. Then, if it can correctly classify a reasonable number of the rest, we can look at what features the algorithim relied on. (For very simple algorthims) \n",
    "\n",
    "Usually, the goal of classification algorithm is to produce models which accurately sort unknown documents into categories (e.g., spam detection). These algorithms and models can be extremely complex. \n",
    "\n",
    "However, we are interested in something else. We want to know which words matter the most in the classification. Thus models which invoke many different statistical properties of the text (e.g., the mean occurance of 'cat', the z score of 'dog', the median occurance of 'fish') are unlikely to be helpful. Whereas, Bayesian models which calculate the probability of a document falling into a paricular category when it has a particular set of words are much more useful."
   ]
  },
  {
   "cell_type": "markdown",
   "metadata": {
    "run_control": {
     "frozen": false,
     "read_only": false
    }
   },
   "source": [
    "We start by seperating the testimonials into lists of words (tokenizing), making everything lowercase, and filtering the testimonials on these parameters:\n",
    "\n",
    "> * replaceContractions : 'True' \n",
    "> * removePunctuation' : 'True'\n",
    "> * removeStops : 'True'\n",
    "> * removeNumerals : 'True'\n",
    "\n",
    "Given the computation this requires, I'll just load it from a shelve file."
   ]
  },
  {
   "cell_type": "code",
   "execution_count": 21,
   "metadata": {
    "collapsed": false,
    "run_control": {
     "frozen": false,
     "read_only": false
    }
   },
   "outputs": [],
   "source": [
    "#Load data\n",
    "tn_raw_data = DH.openData('tn_raw_data') #raw records of tn patients\n",
    "tn_word_bag = DH.openData('tn_word_bag') #tokens of tn testimonials\n",
    "crps_raw_data = DH.openData('crps_raw_data') #crps patients' testimonials \n",
    "crps_word_bag = DH.openData('crps_word_bag') #tokens of crps testimonials\n",
    "#Compile testimonials\n",
    "RAW = [] \n",
    "RAW.extend(tn_raw_data)\n",
    "RAW.extend(crps_raw_data)\n",
    "#Aggregate all tokens\n",
    "masterBag = [] #Holds all tokens\n",
    "for t in tn_word_bag:\n",
    "    masterBag.append(t)\n",
    "for t in crps_word_bag:\n",
    "    masterBag.append(t)\n",
    "#display(HTML({'Trigeminal neuralgia testimonials' : len(tn_raw_data), 'Complex Regional Pain Syndrome testimonials' : len(crps_raw_data), 'Total records' : len(RAW)}))\n",
    "                               "
   ]
  },
  {
   "cell_type": "markdown",
   "metadata": {
    "run_control": {
     "frozen": false,
     "read_only": false
    }
   },
   "source": [
    "[note] Describe filtering out condition names here? "
   ]
  },
  {
   "cell_type": "markdown",
   "metadata": {
    "run_control": {
     "frozen": false,
     "read_only": false
    }
   },
   "source": [
    "Then we compute the frequency distribution of words in the entire set."
   ]
  },
  {
   "cell_type": "code",
   "execution_count": 22,
   "metadata": {
    "collapsed": false,
    "run_control": {
     "frozen": false,
     "read_only": false
    }
   },
   "outputs": [],
   "source": [
    "all_words = nltk.FreqDist(masterBag)\n",
    "word_features = all_words.keys()[:2000]"
   ]
  },
  {
   "cell_type": "markdown",
   "metadata": {
    "run_control": {
     "frozen": false,
     "read_only": false
    }
   },
   "source": [
    "The classifer requires us to tell it what aspects of the text to attend to. For that we define a feature extractor:"
   ]
  },
  {
   "cell_type": "code",
   "execution_count": 23,
   "metadata": {
    "collapsed": false,
    "run_control": {
     "frozen": false,
     "read_only": false
    }
   },
   "outputs": [],
   "source": [
    "#Feature extractor: Presence of word in document\n",
    "def document_features(document):\n",
    "    document_words = []\n",
    "    w = Words(document, param) #Tokenized by word, contractions replaced, numerals removed\n",
    "    document_words = set(list(w.words))\n",
    "    features ={}\n",
    "    for word in word_features:\n",
    "        features['contains(%s)' % word] = word in document_words\n",
    "    return features"
   ]
  },
  {
   "cell_type": "markdown",
   "metadata": {
    "run_control": {
     "frozen": false,
     "read_only": false
    }
   },
   "source": [
    "Since we are interested in whether the use of particular words is more distinctive of the testimonies of patients with a particular condition, this feature extractor compares the words in the target document to our list of all the words that appear in the entire set. It returns a python dictionary where the keys comprise all the words in the set with True or False for whether the word appears in the target document. The classifier gets a list of these dictionaries as its input."
   ]
  },
  {
   "cell_type": "code",
   "execution_count": 24,
   "metadata": {
    "collapsed": false,
    "run_control": {
     "frozen": false,
     "read_only": false
    }
   },
   "outputs": [
    {
     "data": {
      "text/html": [
       "<table border=\"1\" class=\"dataframe\">\n",
       "  <thead>\n",
       "    <tr style=\"text-align: right;\">\n",
       "      <th></th>\n",
       "      <th>0</th>\n",
       "      <th>1</th>\n",
       "    </tr>\n",
       "  </thead>\n",
       "  <tbody>\n",
       "    <tr>\n",
       "      <th>0</th>\n",
       "      <td>      contains(com)</td>\n",
       "      <td> False</td>\n",
       "    </tr>\n",
       "    <tr>\n",
       "      <th>1</th>\n",
       "      <td>    contains(place)</td>\n",
       "      <td> False</td>\n",
       "    </tr>\n",
       "    <tr>\n",
       "      <th>2</th>\n",
       "      <td>   contains(groups)</td>\n",
       "      <td> False</td>\n",
       "    </tr>\n",
       "    <tr>\n",
       "      <th>3</th>\n",
       "      <td> contains(multiple)</td>\n",
       "      <td> False</td>\n",
       "    </tr>\n",
       "    <tr>\n",
       "      <th>4</th>\n",
       "      <td> contains(problems)</td>\n",
       "      <td>  True</td>\n",
       "    </tr>\n",
       "    <tr>\n",
       "      <th>5</th>\n",
       "      <td> contains(clinical)</td>\n",
       "      <td> False</td>\n",
       "    </tr>\n",
       "    <tr>\n",
       "      <th>6</th>\n",
       "      <td>     contains(kind)</td>\n",
       "      <td> False</td>\n",
       "    </tr>\n",
       "    <tr>\n",
       "      <th>7</th>\n",
       "      <td>    contains(worst)</td>\n",
       "      <td> False</td>\n",
       "    </tr>\n",
       "    <tr>\n",
       "      <th>8</th>\n",
       "      <td> contains(pregnant)</td>\n",
       "      <td> False</td>\n",
       "    </tr>\n",
       "    <tr>\n",
       "      <th>9</th>\n",
       "      <td> contains(imporant)</td>\n",
       "      <td> False</td>\n",
       "    </tr>\n",
       "  </tbody>\n",
       "</table>"
      ],
      "text/plain": [
       "<IPython.core.display.HTML at 0x104acea10>"
      ]
     },
     "metadata": {},
     "output_type": "display_data"
    }
   ],
   "source": [
    "exampleText = \"\"\"Women are frequently told that are problems are related to our hormone cycle or our stress or our emotional state. Would men \n",
    "put up with a doctor telling them that their chronic pain is related to their testosterone or their job or if their football team lost?.\"\"\"\n",
    "result = document_features(exampleText)\n",
    "resultlist = []\n",
    "[resultlist.append((word, presence)) for word, presence in result.iteritems()]\n",
    "display(HTML(DataFrame(resultlist[220:230]).to_html()))"
   ]
  },
  {
   "cell_type": "markdown",
   "metadata": {
    "run_control": {
     "frozen": false,
     "read_only": false
    }
   },
   "source": [
    "We need to divide our list of feature sets into a group to be used for training the classifier and a group to test the resulting classifier's accuracy. "
   ]
  },
  {
   "cell_type": "code",
   "execution_count": 25,
   "metadata": {
    "collapsed": false,
    "run_control": {
     "frozen": false,
     "read_only": false
    }
   },
   "outputs": [],
   "source": [
    "#Make featuresets for each of our groups\n",
    "tn_featureset = [(document_features(t['quoteText']), 'tn') for t in tn_raw_data]\n",
    "crps_featureset = [(document_features(c['quoteText']), 'crps') for c in crps_raw_data]\n",
    "#Combine the two lists\n",
    "featureset = []\n",
    "[featureset.append(i) for i in tn_featureset]\n",
    "[featureset.append(i) for i in crps_featureset]\n",
    "#Randomize the master featureset\n",
    "random.shuffle(featureset)\n",
    "#Separate into training and test sets\n",
    "trainset, testset = featureset[:1000], featureset[:1000] "
   ]
  },
  {
   "cell_type": "markdown",
   "metadata": {
    "run_control": {
     "frozen": false,
     "read_only": false
    }
   },
   "source": [
    "##Naive Bayesian classifier\n",
    "\n",
    "The most useful classifier I've used so far employs a naive Bayesian analysis. Let's start it running and then talk about what it's doing. Some background may help since we aren't (as) interested in the usual classification tasks of sorting unknown documents into categories (e.g., spam detection). "
   ]
  },
  {
   "cell_type": "code",
   "execution_count": 26,
   "metadata": {
    "collapsed": false,
    "run_control": {
     "frozen": false,
     "read_only": false
    }
   },
   "outputs": [],
   "source": [
    "#Run naive bayesian classifier on training set\n",
    "bayes_classifier = nltk.NaiveBayesClassifier.train(trainset)"
   ]
  },
  {
   "cell_type": "markdown",
   "metadata": {
    "run_control": {
     "frozen": false,
     "read_only": false
    }
   },
   "source": [
    "#### How Naive Bayesian classifiers work\n",
    "These algorithms begin by calculating the prior probability of each label by checking the frequency of each label in the training set. So, here, the prior probability of the label 'tn' is just P(tn) such that P(tn) + P(crps) = 1. Since there are 15 trigeminal neuralgia records and 35 CRPS records, \n",
    ">P(tn) = 0.3\n",
    ">P(crps) = 0.7\n",
    "\n",
    "The classifier then calculates each feature's contribution to the label. Here, features are just words. So the contribution of the feature 'doctor' ---the occurance of the word 'doctor'--- to the label tn in the training set for trigeminal neuralgia is P('doctor' | 'tn'). \n",
    "\n",
    "From this it calculates a likelihood estimate for each label by multiplying the prior probability with the contributions of each feature to the label. Thus the label liklihood is P(label, set of features). In other words, it's an estimate of the probbility that a randomly selected value from the training set would have both the given label and the set of features, assuming that the feature probabilies are indpendent.\n",
    "\n",
    "That last clause is, of course, crucial. The _independence assumption_ dramatically simplifies the calculation. And it's why this is the _naive_ Bayesian classifier. It poses a problem of double counting the contributions of non-independent features. \n",
    "\n",
    "Other classifiers, such as the maximum entropy classifiers avoid this (with their own tradeoffs). Back to that in a minute."
   ]
  },
  {
   "cell_type": "code",
   "execution_count": 1,
   "metadata": {
    "collapsed": false,
    "run_control": {
     "frozen": false,
     "read_only": false
    }
   },
   "outputs": [
    {
     "ename": "NameError",
     "evalue": "name 'tn_word_bag' is not defined",
     "output_type": "error",
     "traceback": [
      "\u001b[0;31m---------------------------------------------------------------------------\u001b[0m\n\u001b[0;31mNameError\u001b[0m                                 Traceback (most recent call last)",
      "\u001b[0;32m<ipython-input-1-819062365712>\u001b[0m in \u001b[0;36m<module>\u001b[0;34m()\u001b[0m\n\u001b[0;32m----> 1\u001b[0;31m \u001b[0mtn_word_bag\u001b[0m\u001b[0;34m.\u001b[0m\u001b[0mcount\u001b[0m\u001b[0;34m(\u001b[0m\u001b[0;34m'doctor'\u001b[0m\u001b[0;34m)\u001b[0m\u001b[0;34m\u001b[0m\u001b[0m\n\u001b[0m",
      "\u001b[0;31mNameError\u001b[0m: name 'tn_word_bag' is not defined"
     ]
    }
   ],
   "source": [
    "tn_word_bag.count('doctor')"
   ]
  },
  {
   "cell_type": "markdown",
   "metadata": {
    "run_control": {
     "frozen": false,
     "read_only": false
    }
   },
   "source": [
    "Once it has completed, we take the remaining featureset to check how accurately the model can sort the previously unseen testimonials."
   ]
  },
  {
   "cell_type": "code",
   "execution_count": 28,
   "metadata": {
    "collapsed": false,
    "run_control": {
     "frozen": false,
     "read_only": false
    }
   },
   "outputs": [
    {
     "name": "stdout",
     "output_type": "stream",
     "text": [
      "Accuracy:  0.901960784314\n"
     ]
    }
   ],
   "source": [
    "print 'Accuracy: ', nltk.classify.accuracy(bayes_classifier, testset)"
   ]
  },
  {
   "cell_type": "markdown",
   "metadata": {
    "run_control": {
     "frozen": false,
     "read_only": false
    }
   },
   "source": [
    "That is, our classifier was 90% accurate. However, this is actually a sign that the model is bad. Given the small training and test sample sizes, it's likely that the model is more or less just memorizing the list.\n"
   ]
  },
  {
   "cell_type": "markdown",
   "metadata": {
    "run_control": {
     "frozen": false,
     "read_only": false
    }
   },
   "source": [
    "Moreover, it's important to remember that accuracy in classificaton is not our main concern. Usually, the goal of classification algorithm is to produce models which accurately sort unknown documents into categories (e.g., spam detection). These algorithms and models can be extremely complex. \n",
    "\n",
    "However, we are interested in something else. We want to know which words matter the most in the classification. Thus more accuracte models which invoke many different statistical properties of the text (e.g., the mean occurance of 'cat', the z score of 'dog', the median occurance of 'fish') are unlikely to help us.\n",
    "\n",
    "For our purposes, accuracy is important insofar as it is a property of models which can be more informative than mere term frequency.\n",
    "\n",
    "We can then open the box and see what words the model treated as most important"
   ]
  },
  {
   "cell_type": "code",
   "execution_count": 29,
   "metadata": {
    "collapsed": false,
    "run_control": {
     "frozen": false,
     "read_only": false
    }
   },
   "outputs": [
    {
     "name": "stdout",
     "output_type": "stream",
     "text": [
      "Most Informative Features\n",
      "         contains(state) = True               tn : crps   =      8.3 : 1.0\n",
      "        contains(issues) = True               tn : crps   =      8.3 : 1.0\n",
      "      contains(followed) = True               tn : crps   =      6.8 : 1.0\n",
      "          contains(hope) = True               tn : crps   =      5.3 : 1.0\n",
      "         contains(women) = True               tn : crps   =      5.3 : 1.0\n",
      "       contains(working) = True               tn : crps   =      5.3 : 1.0\n",
      "         contains(thing) = True               tn : crps   =      5.3 : 1.0\n",
      "       contains(complex) = True               tn : crps   =      5.3 : 1.0\n",
      "        contains(easily) = True               tn : crps   =      5.3 : 1.0\n",
      "       contains(program) = True               tn : crps   =      5.3 : 1.0\n"
     ]
    },
    {
     "data": {
      "text/plain": [
       "<IPython.core.display.HTML at 0x108476990>"
      ]
     },
     "metadata": {},
     "output_type": "display_data"
    }
   ],
   "source": [
    "display(HTML(bayes_classifier.show_most_informative_features()))"
   ]
  },
  {
   "cell_type": "markdown",
   "metadata": {
    "run_control": {
     "frozen": false,
     "read_only": false
    }
   },
   "source": [
    "This shows that the words 'state' and 'issues' are 8.3 times more likely to occur in a trigeminal neuralgia patient's testimonal than in a CRPS patients' testimonial. On their own, these aren't particularly interesting. However, a trigeminal neuralgia patient's testimonial is 5.3 times more likely to mention 'women'. That's worth looking into.   "
   ]
  },
  {
   "cell_type": "markdown",
   "metadata": {
    "run_control": {
     "frozen": false,
     "read_only": false
    }
   },
   "source": [
    "###Decision tree clasifier\n",
    "I've also tried a decision tree classifier"
   ]
  },
  {
   "cell_type": "code",
   "execution_count": 30,
   "metadata": {
    "collapsed": false,
    "run_control": {
     "frozen": false,
     "read_only": false
    }
   },
   "outputs": [
    {
     "name": "stdout",
     "output_type": "stream",
     "text": [
      "contains(trigeminal)=False? ........................... crps\n",
      "contains(trigeminal)=True? ............................ tn\n",
      "\n",
      "1.0\n"
     ]
    }
   ],
   "source": [
    "dt = nltk.DecisionTreeClassifier.train(trainset)\n",
    "print dt\n",
    "print nltk.classify.accuracy(dt, testset)"
   ]
  },
  {
   "cell_type": "markdown",
   "metadata": {
    "run_control": {
     "frozen": false,
     "read_only": false
    }
   },
   "source": [
    "Perhaps these will be more useful on larger, more diverse groups. But with this small set, it's not so useful...."
   ]
  },
  {
   "cell_type": "markdown",
   "metadata": {
    "run_control": {
     "frozen": false,
     "read_only": false
    }
   },
   "source": [
    "###Max entropy classifiers\n",
    "\n",
    "We can talk about these in the Q&A later....."
   ]
  },
  {
   "cell_type": "markdown",
   "metadata": {
    "run_control": {
     "frozen": false,
     "read_only": false
    }
   },
   "source": [
    "#And now for something completely different.....\n",
    "\n",
    "Sorry. I'm told at least one Monty Python reference is compulsory in any Python-based presentation....\n"
   ]
  },
  {
   "cell_type": "markdown",
   "metadata": {
    "run_control": {
     "frozen": false,
     "read_only": false
    }
   },
   "source": [
    "# Visualizing mentions of pain disorders as networks?"
   ]
  },
  {
   "cell_type": "markdown",
   "metadata": {
    "run_control": {
     "frozen": false,
     "read_only": false
    }
   },
   "source": [
    "Respondents to the IOM survey often mention pain conditions. In many cases they mention more than one. Thus it is interesting to consider whether mentions of particular conditions tend to cluster together. \n",
    "\n",
    "Unfortunately, the IOM survey didn't ask respondents to record which pain conditions they have experience with. Thus we are only dealing here with the occurrances of words and not necessarily the presence of a condition. \n",
    "\n",
    "Moreover, even amongst the respondents identified as patients, the cooccurance of conditions does not necessarily mean that they are reporting suffering from both. For example, our techniques would treat the following the same:\n",
    "\n",
    "* 'The problem is that people with fibromyalgia get all the attention. Everyone ignores people, like me, who have trigeminal neuralgia.'\n",
    "\n",
    "* 'I have both fibromyalgia and trigeminal neuralgia.'\n",
    "\n",
    "However, inspection of the testimony suggests that such cases are likely exceedingly rare (if present at all)."
   ]
  },
  {
   "cell_type": "code",
   "execution_count": 31,
   "metadata": {
    "collapsed": false,
    "run_control": {
     "frozen": false,
     "read_only": false
    }
   },
   "outputs": [],
   "source": [
    "#Number of patients in our sample who report one condition; who report at least two \n",
    "#Data for each condition"
   ]
  },
  {
   "cell_type": "markdown",
   "metadata": {
    "run_control": {
     "frozen": false,
     "read_only": false
    }
   },
   "source": [
    "We begin by using a data service class to load a list of dictionaries containing condition names and ids. It also loads lists of associations between conditions and respondents, associations between testimonials and conditions. (Though we may not use them here)"
   ]
  },
  {
   "cell_type": "code",
   "execution_count": 34,
   "metadata": {
    "collapsed": false,
    "run_control": {
     "frozen": false,
     "read_only": false
    }
   },
   "outputs": [
    {
     "name": "stdout",
     "output_type": "stream",
     "text": [
      "A list comprising all condition names and ids has been loaded as self.conditions\n",
      "A list comprising all aliases and ids has been loaded as self.aliases\n",
      "A list of which respondents correspond to which conditions has been loaded as self.respondentsXconditions\n",
      "A list of all respondents identified as patients and their conditions has been loaded as self.patientsXconditions\n",
      "A list of conditions associated with each quote has been loaded as self.quotesXconditions\n",
      "A list of associations for quotes from patients has been loaded as self.patient_quotesXconditions\n",
      "A list of which conditions are mentioned in each testimonial has been loaded as self.mainxcond\n"
     ]
    }
   ],
   "source": [
    "reload(CSC)\n",
    "C = CSC.ConditionsService('false')\n",
    "C.load_all()\n",
    "#DataFrame(C.conditions)"
   ]
  },
  {
   "cell_type": "markdown",
   "metadata": {
    "run_control": {
     "frozen": false,
     "read_only": false
    }
   },
   "source": [
    "# This needs to be redone with the bimodal network stuff"
   ]
  },
  {
   "cell_type": "markdown",
   "metadata": {
    "run_control": {
     "frozen": false,
     "read_only": false
    }
   },
   "source": [
    "Once the associations have been loaded, we need to create lists of vectors for the condition terms. \n",
    "\n",
    "First, for each condition we find the id of each testimonial in which it occurs. For each result we store a dictionary comprising the conditionID, conditionName, and testimonial id (quoteID) in the list **condition_quote_vectors**. \n",
    "\n",
    "We will be using the **Pandas data analysis toolkit** module. We thus make a Series object **quotes_per_condition** with the condition_quote_vectors. \n",
    "\n",
    "Remember that this group covers every testimonial. A doctor's report that she sees many patients with fibromyalgia, and an unemployed steel worker's account of fibromyalgia's toll on his life will both be represented here."
   ]
  },
  {
   "cell_type": "markdown",
   "metadata": {
    "run_control": {
     "frozen": false,
     "read_only": false
    }
   },
   "source": [
    "We do the same for the respondents who mention the condition at least once. Those go into **respondent_main_vectors** and the pandas Series **responses_per_condition**, respectively. Remember, this group also covers every testimonial."
   ]
  },
  {
   "cell_type": "code",
   "execution_count": 38,
   "metadata": {
    "collapsed": false,
    "run_control": {
     "frozen": false,
     "read_only": false
    }
   },
   "outputs": [
    {
     "ename": "KeyError",
     "evalue": "'edge'",
     "output_type": "error",
     "traceback": [
      "\u001b[0;31m---------------------------------------------------------------------------\u001b[0m\n\u001b[0;31mKeyError\u001b[0m                                  Traceback (most recent call last)",
      "\u001b[0;32m<ipython-input-38-8a1481366d84>\u001b[0m in \u001b[0;36m<module>\u001b[0;34m()\u001b[0m\n\u001b[1;32m      4\u001b[0m \u001b[0;31m#Make a series for number of testimonials mentioning condition\u001b[0m\u001b[0;34m\u001b[0m\u001b[0;34m\u001b[0m\u001b[0m\n\u001b[1;32m      5\u001b[0m \u001b[0;32mfor\u001b[0m \u001b[0mr\u001b[0m \u001b[0;32min\u001b[0m \u001b[0mC\u001b[0m\u001b[0;34m.\u001b[0m\u001b[0mtestimonial_vectors\u001b[0m\u001b[0;34m:\u001b[0m\u001b[0;34m\u001b[0m\u001b[0m\n\u001b[0;32m----> 6\u001b[0;31m     \u001b[0ma\u001b[0m\u001b[0;34m[\u001b[0m\u001b[0mstr\u001b[0m\u001b[0;34m(\u001b[0m\u001b[0mr\u001b[0m\u001b[0;34m[\u001b[0m\u001b[0;34m'conditionName'\u001b[0m\u001b[0;34m]\u001b[0m\u001b[0;34m)\u001b[0m\u001b[0;34m]\u001b[0m \u001b[0;34m=\u001b[0m \u001b[0mlen\u001b[0m\u001b[0;34m(\u001b[0m\u001b[0mr\u001b[0m\u001b[0;34m[\u001b[0m\u001b[0;34m'edge'\u001b[0m\u001b[0;34m]\u001b[0m\u001b[0;34m)\u001b[0m\u001b[0;34m\u001b[0m\u001b[0m\n\u001b[0m\u001b[1;32m      7\u001b[0m \u001b[0mtestimonials_per_cond\u001b[0m \u001b[0;34m=\u001b[0m \u001b[0mSeries\u001b[0m\u001b[0;34m(\u001b[0m\u001b[0ma\u001b[0m\u001b[0;34m)\u001b[0m\u001b[0;34m\u001b[0m\u001b[0m\n\u001b[1;32m      8\u001b[0m \u001b[0;34m\u001b[0m\u001b[0m\n",
      "\u001b[0;31mKeyError\u001b[0m: 'edge'"
     ]
    }
   ],
   "source": [
    "#Service class does the heavy lifting and makes vectors\n",
    "C.make_vectors()\n",
    "\n",
    "#Make a series for number of testimonials mentioning condition\n",
    "for r in C.testimonial_vectors:\n",
    "    a[str(r['conditionName'])] = len(r['edge'])\n",
    "testimonials_per_cond = Series(a)\n",
    "\n",
    "#Make a series for number of respondents per condition\n",
    "for r in C.respondent_vectors:\n",
    "    f[str(r['conditionName'])] = len(r['edge'])\n",
    "respondents_per_condition = Series(f) \n",
    "\n",
    "#Make a series for number of patients mentioning condition\n",
    "for r in C.patient_vectors:\n",
    "    a[str(r['conditionName'])] = len(r['edge'])\n",
    "patients_per_condition = Series(a)\n",
    "\n",
    "#Combine into one dataframe\n",
    "combined = DataFrame(responses_per_condition, columns=['responses_per_condition'])\n",
    "combined['quotes_per_condition'] = quotes_per_cond\n",
    "combined['patients_per_condition'] = patients_per_condition\n",
    "\n",
    "#Show the nice people what you've made\n",
    "display(HTML(\"<h2>Breakdown</h2>\"))\n",
    "display(HTML(combined.to_html()))"
   ]
  },
  {
   "cell_type": "code",
   "execution_count": 6,
   "metadata": {
    "collapsed": false,
    "run_control": {
     "frozen": false,
     "read_only": false
    }
   },
   "outputs": [
    {
     "ename": "NameError",
     "evalue": "name 'responses_per_condition' is not defined",
     "output_type": "error",
     "traceback": [
      "\u001b[0;31m---------------------------------------------------------------------------\u001b[0m\n\u001b[0;31mNameError\u001b[0m                                 Traceback (most recent call last)",
      "\u001b[0;32m<ipython-input-6-57d91b75de58>\u001b[0m in \u001b[0;36m<module>\u001b[0;34m()\u001b[0m\n\u001b[1;32m      4\u001b[0m \u001b[0mfig\u001b[0m\u001b[0;34m.\u001b[0m\u001b[0mset_size_inches\u001b[0m\u001b[0;34m(\u001b[0m\u001b[0;36m25.5\u001b[0m\u001b[0;34m,\u001b[0m\u001b[0;36m10.5\u001b[0m\u001b[0;34m)\u001b[0m\u001b[0;34m\u001b[0m\u001b[0m\n\u001b[1;32m      5\u001b[0m \u001b[0;31m#plt.set_size_inches(25.5,10.5)\u001b[0m\u001b[0;34m\u001b[0m\u001b[0;34m\u001b[0m\u001b[0m\n\u001b[0;32m----> 6\u001b[0;31m \u001b[0mresponses_per_condition\u001b[0m\u001b[0;34m.\u001b[0m\u001b[0mplot\u001b[0m\u001b[0;34m(\u001b[0m\u001b[0mkind\u001b[0m\u001b[0;34m=\u001b[0m\u001b[0;34m'barh'\u001b[0m\u001b[0;34m)\u001b[0m\u001b[0;34m\u001b[0m\u001b[0m\n\u001b[0m\u001b[1;32m      7\u001b[0m \u001b[0;34m\u001b[0m\u001b[0m\n\u001b[1;32m      8\u001b[0m \u001b[0mplt\u001b[0m\u001b[0;34m.\u001b[0m\u001b[0mfigure\u001b[0m\u001b[0;34m(\u001b[0m\u001b[0;34m)\u001b[0m\u001b[0;34m\u001b[0m\u001b[0m\n",
      "\u001b[0;31mNameError\u001b[0m: name 'responses_per_condition' is not defined"
     ]
    },
    {
     "data": {
      "image/png": "[encoded data removed]"
     },
     "metadata": {},
     "output_type": "display_data"
    }
   ],
   "source": [
    "plt.figure()\n",
    "plt.title('# of respondents mentioning condition')\n",
    "fig = matplotlib.pyplot.gcf()\n",
    "fig.set_size_inches(25.5,10.5)\n",
    "#plt.set_size_inches(25.5,10.5)\n",
    "responses_per_condition.plot(kind='barh')\n",
    "\n",
    "plt.figure()\n",
    "plt.title('# of (patient) testimonials mentioning condition')\n",
    "fig = matplotlib.pyplot.gcf()\n",
    "fig.set_size_inches(25.5,10.5)\n",
    "quotes_per_cond.plot(kind='barh')\n",
    "\n",
    "plt.figure()\n",
    "\n",
    "combined.plot(kind='barh')\n",
    "fig = matplotlib.pyplot.gcf()\n",
    "#fig.title('Combined')\n",
    "fig.set_size_inches(25.5,10.5)\n",
    "\n",
    "#fig = matplotlib.pyplot.gcf()\n",
    "#fig.set_size_inches(25.5,10.5)\n",
    "#fig.plot()\n",
    "#plt.savefig('charts_and_graphs/resp_quote_cond',dpi=100)"
   ]
  },
  {
   "cell_type": "markdown",
   "metadata": {
    "run_control": {
     "frozen": false,
     "read_only": false
    }
   },
   "source": [
    "###__Conditions which co-occur in a testimonial__\n",
    "\n",
    ">Each __node__ is a **condition**\n",
    ">\n",
    ">Each __edge__ is a **person**\n",
    "\n",
    "####Notes\n",
    "* Non-reflexive relationships aren't possible. If condition c1 co-occurs with c2 in testimonal T1, then c2 co-occurs with c1 in T1. "
   ]
  },
  {
   "cell_type": "code",
   "execution_count": 143,
   "metadata": {
    "collapsed": false,
    "run_control": {
     "frozen": false,
     "read_only": false
    }
   },
   "outputs": [],
   "source": [
    "#Quotes mentioning condition\n",
    "#Create lists of nodes and edges\n",
    "nodes = []\n",
    "edges = [] #List of tuples with cond in [0]\n",
    "for v in condition_quote_vectors:\n",
    "    cond = v['conditionName']\n",
    "    nodes.append(cond)\n",
    "    cid = v['conditionID']\n",
    "    qs = v['quotes']\n",
    "    #loop through all other lists looking for hits\n",
    "    for a in condition_quote_vectors:\n",
    "        if a['conditionName'] != cond: #Don't want to count self\n",
    "            for i in a['quotes']:\n",
    "                if i in qs:\n",
    "                    edges.append((cond, a['conditionName']))\n",
    "g = nx.DiGraph()\n",
    "g.add_nodes_from(nodes)\n",
    "g.add_edges_from(edges)\n",
    "nx.write_gexf(g, 'charts_and_graphs/conditionsXquotes.gexf')\n",
    "#Export the graph to pydot, configure and print\n",
    "#nx.to_pydot(g)\n",
    "#dd = nx.write_dot(g, 'cxq')\n",
    "#gh = pydot.graph_from_dot_file('cxq')\n",
    "#gh.set_concentrate(True)\n",
    "#gh.write_png('ex5.png')\n",
    "#gh.set_name('Conditions_mentioned_in_testimonies')\n",
    "#gh.set_page('8.5,11')\n",
    "#gh.set_ratio('auto')\n",
    "\n",
    "#gh.write_svg('charts_and_graphs/conditionsXquotesS.svg')\n",
    "#var = ''\n",
    "#v = gh.create_svg('svg')\n",
    "#IPython.core.display(SVG(v))\n",
    "\n",
    "#gh.write_svg(var)\n",
    "#IPython.core.display.display_svg(var)\n",
    "#n.core.display(SVG('charts_and_graphs/conditionsXquotes.svg'))\n",
    "#IPython.core.display(SVG('charts_and_graphs/conditionsXquotes.svg'))\n",
    "#IPython.core.display_svg('charts_and_graphs/conditionsXquotes.svg')"
   ]
  },
  {
   "cell_type": "code",
   "execution_count": 133,
   "metadata": {
    "collapsed": false,
    "run_control": {
     "frozen": false,
     "read_only": false
    }
   },
   "outputs": [],
   "source": [
    "gh.create?"
   ]
  },
  {
   "cell_type": "markdown",
   "metadata": {
    "run_control": {
     "frozen": false,
     "read_only": false
    }
   },
   "source": [
    "###__Respondents mentioning conditions__\n",
    "\n",
    ">Each __node__ is a **condition**\n",
    ">\n",
    ">Each __edge__ is a **person**"
   ]
  },
  {
   "cell_type": "code",
   "execution_count": 158,
   "metadata": {
    "collapsed": false,
    "run_control": {
     "frozen": false,
     "read_only": false
    }
   },
   "outputs": [],
   "source": [
    "#Create lists of nodes and edges\n",
    "rxm_nodes = []\n",
    "rxm_edges = [] #List of tuples with cond in [0]\n",
    "for v in respondent_main_vectors:\n",
    "    cond = v['conditionName']\n",
    "    nodes.append(cond)\n",
    "    cid = v['conditionID']\n",
    "    qs = v['respondents']\n",
    "    #loop through all other lists looking for hits\n",
    "    for a in respondent_main_vectors:\n",
    "        if a['conditionName'] != cond: #Don't want to count self\n",
    "            for i in a['respondents']:\n",
    "                if i in qs:\n",
    "                    edges.append((cond, a['conditionName']))\n",
    "gr = nx.DiGraph()\n",
    "gr.add_nodes_from(nodes)\n",
    "gr.add_edges_from(edges)\n",
    "nx.write_gexf(gr, 'charts_and_graphs/Conditions_mentioned_by_respondent.gexf')\n",
    "#nx.to_pydot(gr)\n",
    "#nx.write_dot(gr, 'cxr')\n",
    "#rxmg = pydot.graph_from_dot_file('cxr')\n",
    "#rxmg.set_name('Conditions_mentioned_by_respondent')\n",
    "#rxmg.set_concentrate(True)\n",
    "#gh.write_png('ex5.png')\n",
    "#rxmg.write_svg('charts_and_graphs/conditionsXrespondent.svg')"
   ]
  },
  {
   "cell_type": "markdown",
   "metadata": {
    "run_control": {
     "frozen": false,
     "read_only": false
    }
   },
   "source": [
    "#Clustering: Are the most similar testimonies from people with clinically significant properties?\n",
    "\n",
    "* Condition\n",
    "* Sex\n",
    "* Disability status\n",
    "* Medication use\n",
    "* Street drug history\n",
    "* Personality traits\n",
    "* Comorbidities (non-pain)"
   ]
  },
  {
   "cell_type": "markdown",
   "metadata": {
    "run_control": {
     "frozen": false,
     "read_only": false
    }
   },
   "source": [
    "#Clustering: Are the most similar testimonies from people with similar non-clinical sequlae?\n",
    "\n",
    "* Anger\n",
    "* Depression\n",
    "* Financial distress\n",
    "* Multiple doctors\n",
    "* Time to diagnosis\n",
    "* Marital status\n",
    "\n",
    "Look for conjunctions like 'doctor' and 'will not'; 'job' and 'lost'; 'work' and 'cannot'"
   ]
  },
  {
   "cell_type": "markdown",
   "metadata": {
    "run_control": {
     "frozen": false,
     "read_only": false
    }
   },
   "source": [
    "## Look Mom! No hands!\n",
    "\n",
    "### ...or, what if we try it without knowing the conditions?\n",
    "\n"
   ]
  },
  {
   "cell_type": "code",
   "execution_count": null,
   "metadata": {
    "collapsed": false,
    "run_control": {
     "frozen": false,
     "read_only": false
    }
   },
   "outputs": [],
   "source": [
    "#the module needs a function to tell whether searchd is on (maybe to start if not"
   ]
  },
  {
   "cell_type": "code",
   "execution_count": 50,
   "metadata": {
    "collapsed": false,
    "run_control": {
     "frozen": false,
     "read_only": false
    }
   },
   "outputs": [
    {
     "data": {
      "text/plain": [
       "'\"Fibromyalgia\" | \"FM\" | \"Ankylosing Spondylitis\" | \"post polio syndrome\" | \"OA\" | \"TMJ\" | \"migraine\" | \"migraines\" | \"IC\" | \"IBS\" | \"Interstitial Cystitis\" | \"Osteoarthritis\" | \"RSD\" | \"CRPS\" | \"CFS\" | \"R.S.D.\" | \"Chronic fatigue syndrome\" | \"C.R.P.S.\" | \"causalgia\" | \"Irritable Bowel Syndrome\" | \"Temporomandibular joint disorder\" | \"fibro\" | \"Lower back pain\" | \"Sickle cell disease\" | \"Endometriosis\" | \"fibromalgia\" | \"fibromialgia\" | \"fibromyagia\" | \"fibromyaglia\" | \"fibromyalgia\" | \"fibromyalsia\" | \"fibromylagia\" | \"fibromylgia\" | \"fms\" | \"fm\" | \"cfs\" | \"cpps\" | \"Ehlers-Danlos Syndrome\" | \"diabetes\" | \"diabetic\" | \"diabetics\" | \"dyspareunia\" | \"cervical dystonia\" | \"cranial dystonia\" | \"dystonia\" | \"Muscular dystrophy\" | \"endometriosis\" | \"Lichen sclerosus\" | \"lumbar\" | \"lupus\" | \"myalgia\" | \"myofacial\" | \"myofascial\" | \"muscluoskeletal\" | \"osteoporosis\" | \"pancreatitis\" | \"psoriatic\" | \"ptsd\" | \"rheumatoid arthritis\" | \"rsd\" | \"rsds\" | \"Chronic regional pain syndrome\" | \"sciatica\" | \"scoliosis\" | \"sjogren\" | \"sjogrens\" | \"tmd\" | \"tmj\" | \"tmmd\" | \"tn\" | \"vaginismus\" | \"vestibulitis\" | \"vestibulodynia\" | \"vulvadynia\" | \"vulvodynia\" | \"vulvovagnial\" | \"Temporomandibular mandibular muscle disorders\" | \"trigeminal neuralgia\" | \"psoriasis\" | \"Ehlers Danlos Syndrome\" | \"fibromyalga\" | \"Reflex Sympathetic Dystrophy\" | \"reflex sypathetic dystrophy\" | \"RA\" | \"vulvar vestibulitis\" | \"Interstitial Cystitits\" | \"Rhumatory Arthritis\" | \"FIBROMYALGIA\" | \"ankylosing spondylitis\" | \"ANKYLOSING SPONDYLITIS\" | \"Post Polio Syndrome\" | \"Post polio syndrome\" | \"POST POLIO SYNDROME\" | \"oa\" | \"Migraine\" | \"MIGRAINE\" | \"Migraines\" | \"MIGRAINES\" | \"ic\" | \"ibs\" | \"interstitial cystitis\" | \"INTERSTITIAL CYSTITIS\" | \"osteoarthritis\" | \"OSTEOARTHRITIS\" | \"crps\" | \"r.s.d.\" | \"Chronic Fatigue Syndrome\" | \"chronic fatigue syndrome\" | \"CHRONIC FATIGUE SYNDROME\" | \"c.r.p.s.\" | \"Causalgia\" | \"CAUSALGIA\" | \"irritable bowel syndrome\" | \"IRRITABLE BOWEL SYNDROME\" | \"Temporomandibular Joint Disorder\" | \"temporomandibular joint disorder\" | \"TEMPOROMANDIBULAR JOINT DISORDER\" | \"Fibro\" | \"FIBRO\" | \"Lower Back Pain\" | \"lower back pain\" | \"LOWER BACK PAIN\" | \"Sickle Cell Disease\" | \"sickle cell disease\" | \"SICKLE CELL DISEASE\" | \"ENDOMETRIOSIS\" | \"Fibromalgia\" | \"FIBROMALGIA\" | \"Fibromialgia\" | \"FIBROMIALGIA\" | \"Fibromyagia\" | \"FIBROMYAGIA\" | \"Fibromyaglia\" | \"FIBROMYAGLIA\" | \"Fibromyalsia\" | \"FIBROMYALSIA\" | \"Fibromylagia\" | \"FIBROMYLAGIA\" | \"Fibromylgia\" | \"FIBROMYLGIA\" | \"Fms\" | \"FMS\" | \"Fm\" | \"Cfs\" | \"Cpps\" | \"CPPS\" | \"ehlers-danlos syndrome\" | \"EHLERS-DANLOS SYNDROME\" | \"Diabetes\" | \"DIABETES\" | \"Diabetic\" | \"DIABETIC\" | \"Diabetics\" | \"DIABETICS\" | \"Dyspareunia\" | \"DYSPAREUNIA\" | \"Cervical Dystonia\" | \"Cervical dystonia\" | \"CERVICAL DYSTONIA\" | \"Cranial Dystonia\" | \"Cranial dystonia\" | \"CRANIAL DYSTONIA\" | \"Dystonia\" | \"DYSTONIA\" | \"Muscular Dystrophy\" | \"muscular dystrophy\" | \"MUSCULAR DYSTROPHY\" | \"Lichen Sclerosus\" | \"lichen sclerosus\" | \"LICHEN SCLEROSUS\" | \"Lumbar\" | \"LUMBAR\" | \"Lupus\" | \"LUPUS\" | \"Myalgia\" | \"MYALGIA\" | \"Myofacial\" | \"MYOFACIAL\" | \"Myofascial\" | \"MYOFASCIAL\" | \"Muscluoskeletal\" | \"MUSCLUOSKELETAL\" | \"Osteoporosis\" | \"OSTEOPOROSIS\" | \"Pancreatitis\" | \"PANCREATITIS\" | \"Psoriatic\" | \"PSORIATIC\" | \"Ptsd\" | \"PTSD\" | \"Rheumatoid Arthritis\" | \"Rheumatoid arthritis\" | \"RHEUMATOID ARTHRITIS\" | \"Rsd\" | \"Rsds\" | \"RSDS\" | \"Chronic Regional Pain Syndrome\" | \"chronic regional pain syndrome\" | \"CHRONIC REGIONAL PAIN SYNDROME\" | \"Sciatica\" | \"SCIATICA\" | \"Scoliosis\" | \"SCOLIOSIS\" | \"Sjogren\" | \"SJOGREN\" | \"Sjogrens\" | \"SJOGRENS\" | \"Tmd\" | \"TMD\" | \"Tmj\" | \"Tmmd\" | \"TMMD\" | \"Tn\" | \"TN\" | \"Vaginismus\" | \"VAGINISMUS\" | \"Vestibulitis\" | \"VESTIBULITIS\" | \"Vestibulodynia\" | \"VESTIBULODYNIA\" | \"Vulvadynia\" | \"VULVADYNIA\" | \"Vulvodynia\" | \"VULVODYNIA\" | \"Vulvovagnial\" | \"VULVOVAGNIAL\" | \"Temporomandibular Mandibular Muscle Disorders\" | \"temporomandibular mandibular muscle disorders\" | \"TEMPOROMANDIBULAR MANDIBULAR MUSCLE DISORDERS\" | \"Trigeminal Neuralgia\" | \"Trigeminal neuralgia\" | \"TRIGEMINAL NEURALGIA\" | \"Psoriasis\" | \"PSORIASIS\" | \"ehlers danlos syndrome\" | \"EHLERS DANLOS SYNDROME\" | \"Fibromyalga\" | \"FIBROMYALGA\" | \"reflex sympathetic dystrophy\" | \"REFLEX SYMPATHETIC DYSTROPHY\" | \"Reflex Sypathetic Dystrophy\" | \"Reflex sypathetic dystrophy\" | \"REFLEX SYPATHETIC DYSTROPHY\" | \"ra\" | \"Vulvar Vestibulitis\" | \"Vulvar vestibulitis\" | \"VULVAR VESTIBULITIS\" | \"interstitial cystitits\" | \"INTERSTITIAL CYSTITITS\" | \"rhumatory arthritis\" | \"RHUMATORY ARTHRITIS\" | \"Ankylosing spondylitis\" | \"Oa\" | \"Ic\" | \"Ibs\" | \"Interstitial cystitis\" | \"Crps\" | \"R.s.d.\" | \"C.r.p.s.\" | \"Irritable bowel syndrome\"'"
      ]
     },
     "metadata": {},
     "output_type": "display_data"
    }
   ],
   "source": [
    "QS = DS.QueryShell()\n",
    "query2 = \"\"\"select conditionAlias from conditionAliases limit 260\"\"\"\n",
    "val = []\n",
    "QS.query(query2, val)\n",
    "conditions = QS.dbdata\n",
    "\n",
    "cons = []\n",
    "[cons.append('\"' + t['conditionAlias'] + '\"') for t in conditions] \n",
    "concatenatedConditions = ' | '.join(cons)\n",
    "#display_html(concatenatedConditions)"
   ]
  },
  {
   "cell_type": "code",
   "execution_count": 51,
   "metadata": {
    "collapsed": false,
    "run_control": {
     "frozen": false,
     "read_only": false
    }
   },
   "outputs": [
    {
     "name": "stdout",
     "output_type": "stream",
     "text": [
      "Don't forget to start sphnix from the terminal: \n",
      "cd /usr/local/sphinx\n",
      "sudo searchd\n",
      "Ready to search IOM testimony_all \n",
      "search failed\n",
      "0  records have been masked to remove  \"Fibromyalgia\" | \"FM\" | \"Ankylosing Spondylitis\" | \"post polio syndrome\" | \"OA\" | \"TMJ\" | \"migraine\" | \"migraines\" | \"IC\" | \"IBS\" | \"Interstitial Cystitis\" | \"Osteoarthritis\" | \"RSD\" | \"CRPS\" | \"CFS\" | \"R.S.D.\" | \"Chronic fatigue syndrome\" | \"C.R.P.S.\" | \"causalgia\" | \"Irritable Bowel Syndrome\" | \"Temporomandibular joint disorder\" | \"fibro\" | \"Lower back pain\" | \"Sickle cell disease\" | \"Endometriosis\" | \"fibromalgia\" | \"fibromialgia\" | \"fibromyagia\" | \"fibromyaglia\" | \"fibromyalgia\" | \"fibromyalsia\" | \"fibromylagia\" | \"fibromylgia\" | \"fms\" | \"fm\" | \"cfs\" | \"cpps\" | \"Ehlers-Danlos Syndrome\" | \"diabetes\" | \"diabetic\" | \"diabetics\" | \"dyspareunia\" | \"cervical dystonia\" | \"cranial dystonia\" | \"dystonia\" | \"Muscular dystrophy\" | \"endometriosis\" | \"Lichen sclerosus\" | \"lumbar\" | \"lupus\" | \"myalgia\" | \"myofacial\" | \"myofascial\" | \"muscluoskeletal\" | \"osteoporosis\" | \"pancreatitis\" | \"psoriatic\" | \"ptsd\" | \"rheumatoid arthritis\" | \"rsd\" | \"rsds\" | \"Chronic regional pain syndrome\" | \"sciatica\" | \"scoliosis\" | \"sjogren\" | \"sjogrens\" | \"tmd\" | \"tmj\" | \"tmmd\" | \"tn\" | \"vaginismus\" | \"vestibulitis\" | \"vestibulodynia\" | \"vulvadynia\" | \"vulvodynia\" | \"vulvovagnial\" | \"Temporomandibular mandibular muscle disorders\" | \"trigeminal neuralgia\" | \"psoriasis\" | \"Ehlers Danlos Syndrome\" | \"fibromyalga\" | \"Reflex Sympathetic Dystrophy\" | \"reflex sypathetic dystrophy\" | \"RA\" | \"vulvar vestibulitis\" | \"Interstitial Cystitits\" | \"Rhumatory Arthritis\" | \"FIBROMYALGIA\" | \"ankylosing spondylitis\" | \"ANKYLOSING SPONDYLITIS\" | \"Post Polio Syndrome\" | \"Post polio syndrome\" | \"POST POLIO SYNDROME\" | \"oa\" | \"Migraine\" | \"MIGRAINE\" | \"Migraines\" | \"MIGRAINES\" | \"ic\" | \"ibs\" | \"interstitial cystitis\" | \"INTERSTITIAL CYSTITIS\" | \"osteoarthritis\" | \"OSTEOARTHRITIS\" | \"crps\" | \"r.s.d.\" | \"Chronic Fatigue Syndrome\" | \"chronic fatigue syndrome\" | \"CHRONIC FATIGUE SYNDROME\" | \"c.r.p.s.\" | \"Causalgia\" | \"CAUSALGIA\" | \"irritable bowel syndrome\" | \"IRRITABLE BOWEL SYNDROME\" | \"Temporomandibular Joint Disorder\" | \"temporomandibular joint disorder\" | \"TEMPOROMANDIBULAR JOINT DISORDER\" | \"Fibro\" | \"FIBRO\" | \"Lower Back Pain\" | \"lower back pain\" | \"LOWER BACK PAIN\" | \"Sickle Cell Disease\" | \"sickle cell disease\" | \"SICKLE CELL DISEASE\" | \"ENDOMETRIOSIS\" | \"Fibromalgia\" | \"FIBROMALGIA\" | \"Fibromialgia\" | \"FIBROMIALGIA\" | \"Fibromyagia\" | \"FIBROMYAGIA\" | \"Fibromyaglia\" | \"FIBROMYAGLIA\" | \"Fibromyalsia\" | \"FIBROMYALSIA\" | \"Fibromylagia\" | \"FIBROMYLAGIA\" | \"Fibromylgia\" | \"FIBROMYLGIA\" | \"Fms\" | \"FMS\" | \"Fm\" | \"Cfs\" | \"Cpps\" | \"CPPS\" | \"ehlers-danlos syndrome\" | \"EHLERS-DANLOS SYNDROME\" | \"Diabetes\" | \"DIABETES\" | \"Diabetic\" | \"DIABETIC\" | \"Diabetics\" | \"DIABETICS\" | \"Dyspareunia\" | \"DYSPAREUNIA\" | \"Cervical Dystonia\" | \"Cervical dystonia\" | \"CERVICAL DYSTONIA\" | \"Cranial Dystonia\" | \"Cranial dystonia\" | \"CRANIAL DYSTONIA\" | \"Dystonia\" | \"DYSTONIA\" | \"Muscular Dystrophy\" | \"muscular dystrophy\" | \"MUSCULAR DYSTROPHY\" | \"Lichen Sclerosus\" | \"lichen sclerosus\" | \"LICHEN SCLEROSUS\" | \"Lumbar\" | \"LUMBAR\" | \"Lupus\" | \"LUPUS\" | \"Myalgia\" | \"MYALGIA\" | \"Myofacial\" | \"MYOFACIAL\" | \"Myofascial\" | \"MYOFASCIAL\" | \"Muscluoskeletal\" | \"MUSCLUOSKELETAL\" | \"Osteoporosis\" | \"OSTEOPOROSIS\" | \"Pancreatitis\" | \"PANCREATITIS\" | \"Psoriatic\" | \"PSORIATIC\" | \"Ptsd\" | \"PTSD\" | \"Rheumatoid Arthritis\" | \"Rheumatoid arthritis\" | \"RHEUMATOID ARTHRITIS\" | \"Rsd\" | \"Rsds\" | \"RSDS\" | \"Chronic Regional Pain Syndrome\" | \"chronic regional pain syndrome\" | \"CHRONIC REGIONAL PAIN SYNDROME\" | \"Sciatica\" | \"SCIATICA\" | \"Scoliosis\" | \"SCOLIOSIS\" | \"Sjogren\" | \"SJOGREN\" | \"Sjogrens\" | \"SJOGRENS\" | \"Tmd\" | \"TMD\" | \"Tmj\" | \"Tmmd\" | \"TMMD\" | \"Tn\" | \"TN\" | \"Vaginismus\" | \"VAGINISMUS\" | \"Vestibulitis\" | \"VESTIBULITIS\" | \"Vestibulodynia\" | \"VESTIBULODYNIA\" | \"Vulvadynia\" | \"VULVADYNIA\" | \"Vulvodynia\" | \"VULVODYNIA\" | \"Vulvovagnial\" | \"VULVOVAGNIAL\" | \"Temporomandibular Mandibular Muscle Disorders\" | \"temporomandibular mandibular muscle disorders\" | \"TEMPOROMANDIBULAR MANDIBULAR MUSCLE DISORDERS\" | \"Trigeminal Neuralgia\" | \"Trigeminal neuralgia\" | \"TRIGEMINAL NEURALGIA\" | \"Psoriasis\" | \"PSORIASIS\" | \"ehlers danlos syndrome\" | \"EHLERS DANLOS SYNDROME\" | \"Fibromyalga\" | \"FIBROMYALGA\" | \"reflex sympathetic dystrophy\" | \"REFLEX SYMPATHETIC DYSTROPHY\" | \"Reflex Sypathetic Dystrophy\" | \"Reflex sypathetic dystrophy\" | \"REFLEX SYPATHETIC DYSTROPHY\" | \"ra\" | \"Vulvar Vestibulitis\" | \"Vulvar vestibulitis\" | \"VULVAR VESTIBULITIS\" | \"interstitial cystitits\" | \"INTERSTITIAL CYSTITITS\" | \"rhumatory arthritis\" | \"RHUMATORY ARTHRITIS\" | \"Ankylosing spondylitis\" | \"Oa\" | \"Ic\" | \"Ibs\" | \"Interstitial cystitis\" | \"Crps\" | \"R.s.d.\" | \"C.r.p.s.\" | \"Irritable bowel syndrome\"\n",
      "The list is in self.masked; it has also been returned \n"
     ]
    }
   ],
   "source": [
    "sx = SPX.SphinxSearch()\n",
    "sx.setPresetTables('iomMain')\n",
    "maskedquotes = sx.mask_term(concatenatedConditions)"
   ]
  },
  {
   "cell_type": "code",
   "execution_count": 54,
   "metadata": {
    "collapsed": false,
    "run_control": {
     "frozen": false,
     "read_only": false
    }
   },
   "outputs": [
    {
     "name": "stdout",
     "output_type": "stream",
     "text": [
      "Don't forget to start sphnix from the terminal: \n",
      "cd /usr/local/sphinx\n",
      "sudo searchd\n",
      "Ready to search IOM testimony_all \n",
      "search failed\n"
     ]
    }
   ],
   "source": [
    "sphinx = SPX.SphinxSearch()\n",
    "sphinx.setPresetTables('iomMain')\n",
    "sphinx.search(maskedquotes)\n",
    "sphinx.getContent()\n",
    "sphinx.buildExcerpts()"
   ]
  },
  {
   "cell_type": "markdown",
   "metadata": {
    "run_control": {
     "frozen": false,
     "read_only": false
    }
   },
   "source": [
    "# Sentiment analysis"
   ]
  },
  {
   "cell_type": "markdown",
   "metadata": {
    "run_control": {
     "frozen": false,
     "read_only": false
    }
   },
   "source": [
    "# Good ol' term frequency: What did I miss?\n",
    "\n",
    "....and why is this supposed to be awesome?"
   ]
  },
  {
   "cell_type": "code",
   "execution_count": 57,
   "metadata": {
    "collapsed": false,
    "run_control": {
     "frozen": false,
     "read_only": false
    }
   },
   "outputs": [
    {
     "data": {
      "image/png": "[encoded data removed]"
     },
     "metadata": {},
     "output_type": "display_data"
    },
    {
     "data": {
      "image/png": "[encoded data removed]"
     },
     "metadata": {},
     "output_type": "display_data"
    }
   ],
   "source": [
    "tn_raw_data = DH.openData('tn_raw_data') #raw records of tn patients\n",
    "tn_word_bag = DH.openData('tn_word_bag') #tokens of tn testimonials\n",
    "crps_raw_data = DH.openData('crps_raw_data') #crps patients' testimonials \n",
    "crps_word_bag = DH.openData('crps_word_bag') #tokens of crps testimonials\n",
    "fm_raw_data = DH.openData('fm_raw_data') #fm patients' testimonials \n",
    "fm_word_bag = DH.openData('fm_word_bag') #fm of crps testimonials\n",
    "\n",
    "#frequency distribution of word lengths\n",
    "#word_length_frequency = nltk.FreqDist([len(w) for w in word_bag])\n",
    "#word_length_frequency.items()\n",
    "#word_length_frequency.plot(cumulative=False)\n",
    "#frequency distribution of word lengths\n",
    "tn_word_length_frequency = nltk.FreqDist([len(w) for w in tn_word_bag])\n",
    "#word_length_frequency.items()\n",
    "tn_word_length_frequency.plot(cumulative=False)\n",
    "#frequency distribution of word lengths\n",
    "fm_word_length_frequency = nltk.FreqDist([len(w) for w in fm_word_bag])\n",
    "#word_length_frequency.items()\n",
    "fm_word_length_frequency.plot(cumulative=False)\n"
   ]
  },
  {
   "cell_type": "code",
   "execution_count": 58,
   "metadata": {
    "collapsed": false,
    "run_control": {
     "frozen": false,
     "read_only": false
    }
   },
   "outputs": [],
   "source": [
    "#words_by_freq = nltk.FreqDist(word_bag)\n",
    "tn_words_by_freq = nltk.FreqDist(tn_word_bag)\n",
    "fm_words_by_freq = nltk.FreqDist(fm_word_bag)"
   ]
  },
  {
   "cell_type": "code",
   "execution_count": 60,
   "metadata": {
    "collapsed": false,
    "run_control": {
     "frozen": false,
     "read_only": false
    }
   },
   "outputs": [
    {
     "data": {
      "image/png": "[encoded data removed]"
     },
     "metadata": {},
     "output_type": "display_data"
    },
    {
     "data": {
      "image/png": "[encoded data removed]"
     },
     "metadata": {},
     "output_type": "display_data"
    }
   ],
   "source": [
    "#words_by_freq.plot(20, cumulative=True)\n",
    "tn_words_by_freq.plot(20, cumulative=True, title='Trigeminal neuralgia')\n",
    "fm_words_by_freq.plot(20, cumulative=False, title='Fibromyalgia')"
   ]
  },
  {
   "cell_type": "code",
   "execution_count": null,
   "metadata": {
    "collapsed": false,
    "run_control": {
     "frozen": false,
     "read_only": false
    }
   },
   "outputs": [],
   "source": []
  }
 ],
 "metadata": {
  "kernelspec": {
   "display_name": "Python 3",
   "language": "python",
   "name": "python3"
  },
  "language_info": {
   "codemirror_mode": {
    "name": "ipython",
    "version": 3
   },
   "file_extension": ".py",
   "mimetype": "text/x-python",
   "name": "python",
   "nbconvert_exporter": "python",
   "pygments_lexer": "ipython3",
   "version": "3.4.3"
  },
  "latex_envs": {
   "bibliofile": "biblio.bib",
   "cite_by": "apalike",
   "current_citInitial": 1,
   "eqLabelWithNumbers": true,
   "eqNumInitial": 0
  }
 },
 "nbformat": 4,
 "nbformat_minor": 0
}
