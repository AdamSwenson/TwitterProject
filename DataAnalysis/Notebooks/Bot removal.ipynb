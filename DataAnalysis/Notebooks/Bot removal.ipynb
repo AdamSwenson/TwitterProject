{
 "cells": [
  {
   "cell_type": "markdown",
   "metadata": {},
   "source": [
    "_This is devoted to detecting non-human users in our database_"
   ]
  },
  {
   "cell_type": "markdown",
   "metadata": {},
   "source": [
    "From http://www.erinshellman.com/bot-or-not/\n",
    "\n",
    "Follower distributions\n",
    "\n",
    "    Fast-forward to clean, well-formatted data and it doesn’t take long to find fishiness. On average, bots follow 1400 people whereas humans follow 500. Bots are similarly strange in their distribution of followers. Humans have a fairly uniform distribution of followers. Some people are popular, some not so much, and many in between. Conversely, these bots are extremely unpopular with an average of a measly 28 followers.\n",
    "    \n",
    "Lexical diversity\n",
    "\n",
    "    Again these bots look strange. Humans have a beautiful, almost textbook normal distribution of diversities centered at 0.70. Bots on the other hand have more mass at the extremes, especially towards one. A lexical diversity of one means that every word in the document is unique, implying that bots are either not tweeting much, or are tweeting random strings of text."
   ]
  },
  {
   "cell_type": "code",
   "execution_count": 1,
   "metadata": {
    "ExecuteTime": {
     "end_time": "2018-08-17T21:42:55.518810Z",
     "start_time": "2018-08-17T21:42:54.442775Z"
    }
   },
   "outputs": [
    {
     "name": "stderr",
     "output_type": "stream",
     "text": [
      "/Users/adam/.pyenv/versions/3.6.4/lib/python3.6/importlib/_bootstrap.py:219: RuntimeWarning: numpy.dtype size changed, may indicate binary incompatibility. Expected 96, got 88\n",
      "  return f(*args, **kwds)\n",
      "/Users/adam/.pyenv/versions/3.6.4/lib/python3.6/importlib/_bootstrap.py:219: RuntimeWarning: numpy.dtype size changed, may indicate binary incompatibility. Expected 96, got 88\n",
      "  return f(*args, **kwds)\n"
     ]
    },
    {
     "name": "stdout",
     "output_type": "stream",
     "text": [
      "(bookmark:twitterproject) -> /Users/adam/Dropbox/PainNarrativesLab/TwitterProject\n",
      "/Users/adam/Dropbox/PainNarrativesLab/TwitterProject\n",
      "['/Users/adam/.pyenv/versions/3.6.4/lib/python3.6/site-packages/ipykernel_launcher.py', '--config', 'laptop-mining']\n",
      "Reading configuration from /Users/adam/Dropbox/PainNarrativesLab/TwitterProject/configurations/laptop-mining.config.ini\n"
     ]
    }
   ],
   "source": [
    "import pandas as pd\n",
    "\n",
    "#Plotting \n",
    "%matplotlib inline\n",
    "from matplotlib import pyplot as plt\n",
    "import seaborn as sns\n",
    "sns.set(style=\"whitegrid\")\n",
    "\n",
    "\n",
    "%cd twitterproject\n",
    "\n",
    "# inject config value (on command line would've been --config=data-analysis)\n",
    "import sys\n",
    "# args = ['--config', 'data-analysis']\n",
    "args = ['--config', 'laptop-mining']\n",
    "old_sys_argv = sys.argv\n",
    "sys.argv = [old_sys_argv[0]] + args\n",
    "import environment"
   ]
  },
  {
   "cell_type": "code",
   "execution_count": null,
   "metadata": {
    "ExecuteTime": {
     "end_time": "2018-08-14T01:33:38.207002Z",
     "start_time": "2018-08-14T01:33:36.938656Z"
    }
   },
   "outputs": [],
   "source": [
    "from TwitterDatabase.Repositories import DataRepositories as DR\n",
    "from TwitterDatabase.DatabaseAccessObjects import DataConnections as DC\n",
    "from TwitterDatabase.Models.WordORM import Word\n",
    "from TwitterDatabase.Models.TweetORM import Users as User\n",
    "from TwitterDatabase.Models.TweetORM import Tweet\n",
    "from DataAnalysis.SearchTools.WordMaps import get_adjacent_word_counts, get_adjacent_words, get_user_ids_for_word\n",
    "\n",
    "EXP_TERMS_FILEPATH = '%s/experimental-terms.xlsx' % environment.EXPERIMENTS_FOLDER\n",
    "IDS_FILEPATH = \"%s/temp_output/user-ids.xlsx\" % environment.LOG_FOLDER_PATH"
   ]
  },
  {
   "cell_type": "markdown",
   "metadata": {},
   "source": [
    "# Bot detection on users"
   ]
  },
  {
   "cell_type": "markdown",
   "metadata": {},
   "source": [
    "## Load data"
   ]
  },
  {
   "cell_type": "code",
   "execution_count": null,
   "metadata": {
    "ExecuteTime": {
     "end_time": "2018-08-14T01:33:38.269459Z",
     "start_time": "2018-08-14T01:33:38.211516Z"
    }
   },
   "outputs": [],
   "source": [
    "dao = DC.MySqlConnection(environment.CREDENTIAL_FILE)"
   ]
  },
  {
   "cell_type": "code",
   "execution_count": null,
   "metadata": {
    "ExecuteTime": {
     "end_time": "2018-08-13T21:50:24.203318Z",
     "start_time": "2018-08-13T21:49:52.600350Z"
    }
   },
   "outputs": [],
   "source": [
    "data= pd.read_sql_query(\"select userID, friends_count, followers_count from users\", dao.engine, index_col='userID')\n",
    "# Because someone set this field to string\n",
    "data.followers_count = data.apply(lambda x : int(x.followers_count), axis=1)"
   ]
  },
  {
   "cell_type": "code",
   "execution_count": null,
   "metadata": {
    "ExecuteTime": {
     "end_time": "2018-08-13T21:50:24.483023Z",
     "start_time": "2018-08-13T21:50:24.205417Z"
    }
   },
   "outputs": [],
   "source": [
    "data.describe()"
   ]
  },
  {
   "cell_type": "markdown",
   "metadata": {},
   "source": [
    "## Prune the data"
   ]
  },
  {
   "cell_type": "code",
   "execution_count": null,
   "metadata": {
    "ExecuteTime": {
     "end_time": "2018-08-10T18:27:32.442202Z",
     "start_time": "2018-08-10T18:27:32.333883Z"
    }
   },
   "outputs": [],
   "source": [
    "MIN_FRIENDS = 1\n",
    "MIN_FOLLOWERS =0\n",
    "\n",
    "# cutoff the top 1%\n",
    "MAX_PERCENTILE = 0.99\n",
    "\n",
    "start_count = len(data)\n",
    "\n",
    "# Trim by number of friends\n",
    "friends_cutoff = data.friends_count.quantile(MAX_PERCENTILE)\n",
    "data = data[data.friends_count.between(MIN_FRIENDS, friends_cutoff, inclusive=True)]\n",
    "# Trim by number of followers\n",
    "followers_cutoff = data.followers_count.quantile(MAX_PERCENTILE)\n",
    "data = data[data.followers_count.between(MIN_FOLLOWERS, followers_cutoff, inclusive=True)]\n",
    "\n",
    "print(\"Cutoff for friend count: %s \\nCutoff for follower count: %s \\nRemoved %s users\" % (friends_cutoff, followers_cutoff, start_count - len(data)))"
   ]
  },
  {
   "cell_type": "markdown",
   "metadata": {},
   "source": [
    "### Number of people the user follows (friends)"
   ]
  },
  {
   "cell_type": "code",
   "execution_count": null,
   "metadata": {
    "ExecuteTime": {
     "end_time": "2018-08-10T18:27:52.786141Z",
     "start_time": "2018-08-10T18:27:49.096877Z"
    }
   },
   "outputs": [],
   "source": [
    "sns.distplot(data['friends_count'])"
   ]
  },
  {
   "cell_type": "code",
   "execution_count": null,
   "metadata": {
    "ExecuteTime": {
     "end_time": "2018-08-10T18:27:58.697761Z",
     "start_time": "2018-08-10T18:27:55.270198Z"
    }
   },
   "outputs": [],
   "source": [
    "sns.violinplot(data.friends_count)"
   ]
  },
  {
   "cell_type": "markdown",
   "metadata": {},
   "source": [
    "### How many people follow the user"
   ]
  },
  {
   "cell_type": "code",
   "execution_count": null,
   "metadata": {
    "ExecuteTime": {
     "end_time": "2018-08-10T18:28:05.802145Z",
     "start_time": "2018-08-10T18:28:02.025008Z"
    }
   },
   "outputs": [],
   "source": [
    "sns.distplot(data.followers_count)"
   ]
  },
  {
   "cell_type": "code",
   "execution_count": null,
   "metadata": {
    "ExecuteTime": {
     "end_time": "2018-08-10T18:28:08.677737Z",
     "start_time": "2018-08-10T18:28:05.804375Z"
    }
   },
   "outputs": [],
   "source": [
    "sns.violinplot(data.followers_count)"
   ]
  },
  {
   "cell_type": "code",
   "execution_count": null,
   "metadata": {
    "ExecuteTime": {
     "end_time": "2018-08-10T01:48:09.794869Z",
     "start_time": "2018-08-10T01:48:09.657843Z"
    }
   },
   "outputs": [],
   "source": [
    "data.sort_values('followers_count', ascending=True)[:10]"
   ]
  },
  {
   "cell_type": "code",
   "execution_count": null,
   "metadata": {},
   "outputs": [],
   "source": []
  },
  {
   "cell_type": "code",
   "execution_count": null,
   "metadata": {},
   "outputs": [],
   "source": []
  },
  {
   "cell_type": "markdown",
   "metadata": {},
   "source": [
    "## Distribution of status updates\n"
   ]
  },
  {
   "cell_type": "code",
   "execution_count": null,
   "metadata": {
    "ExecuteTime": {
     "end_time": "2018-08-14T01:33:56.716295Z",
     "start_time": "2018-08-14T01:33:52.438184Z"
    }
   },
   "outputs": [],
   "source": [
    "\n",
    "query = \"SELECT userID, screen_name, statuses_count FROM users ORDER BY statuses_count DESC\"\n",
    "freq = pd.read_sql_query(query, dao.engine, index_col='userID')"
   ]
  },
  {
   "cell_type": "code",
   "execution_count": null,
   "metadata": {
    "ExecuteTime": {
     "end_time": "2018-08-14T01:34:15.753870Z",
     "start_time": "2018-08-14T01:34:12.986349Z"
    }
   },
   "outputs": [],
   "source": [
    "sns.distplot(freq.statuses_count)"
   ]
  },
  {
   "cell_type": "code",
   "execution_count": null,
   "metadata": {
    "ExecuteTime": {
     "end_time": "2018-08-14T01:34:57.232436Z",
     "start_time": "2018-08-14T01:34:57.122911Z"
    }
   },
   "outputs": [],
   "source": [
    "freq.statuses_count.describe()"
   ]
  },
  {
   "cell_type": "code",
   "execution_count": null,
   "metadata": {
    "ExecuteTime": {
     "end_time": "2018-08-14T01:40:06.629950Z",
     "start_time": "2018-08-14T01:40:06.158044Z"
    }
   },
   "outputs": [],
   "source": [
    "for i in range(80, 100):\n",
    "    j = round(i * 0.01,2)\n",
    "    q = freq.statuses_count.quantile(j)\n",
    "    print(\"%s th : %s\" % (i, int(q))) "
   ]
  },
  {
   "cell_type": "code",
   "execution_count": null,
   "metadata": {},
   "outputs": [],
   "source": []
  },
  {
   "cell_type": "code",
   "execution_count": null,
   "metadata": {},
   "outputs": [],
   "source": []
  },
  {
   "cell_type": "code",
   "execution_count": null,
   "metadata": {},
   "outputs": [],
   "source": []
  },
  {
   "cell_type": "markdown",
   "metadata": {},
   "source": [
    "## Calculate relationships"
   ]
  },
  {
   "cell_type": "code",
   "execution_count": null,
   "metadata": {
    "ExecuteTime": {
     "end_time": "2018-08-10T18:30:18.557295Z",
     "start_time": "2018-08-10T18:28:39.337354Z"
    }
   },
   "outputs": [],
   "source": [
    "# Subtract followers from friends\n",
    "data['friends_less_followers'] = data.apply(lambda x : x.friends_count - x.followers_count, axis=1)\n",
    "\n",
    "def f(row):\n",
    "    if row.followers_count == 0: return 0\n",
    "    return row.friends_count / row.followers_count\n",
    "data['ratio_friends_followers'] = data.apply(lambda x: f(x), axis=1)"
   ]
  },
  {
   "cell_type": "code",
   "execution_count": null,
   "metadata": {
    "ExecuteTime": {
     "end_time": "2018-08-10T18:30:18.975295Z",
     "start_time": "2018-08-10T18:30:18.559229Z"
    }
   },
   "outputs": [],
   "source": [
    "data.describe()"
   ]
  },
  {
   "cell_type": "code",
   "execution_count": null,
   "metadata": {
    "ExecuteTime": {
     "end_time": "2018-08-10T01:24:22.729928Z",
     "start_time": "2018-08-10T01:24:22.721434Z"
    }
   },
   "outputs": [],
   "source": [
    "data[:10]"
   ]
  },
  {
   "cell_type": "markdown",
   "metadata": {},
   "source": [
    "### Difference between friends and followers"
   ]
  },
  {
   "cell_type": "code",
   "execution_count": null,
   "metadata": {
    "ExecuteTime": {
     "end_time": "2018-08-10T00:47:45.192831Z",
     "start_time": "2018-08-10T00:47:45.079175Z"
    }
   },
   "outputs": [],
   "source": [
    "data.sort_values('friends_less_followers', ascending=True)[:10]"
   ]
  },
  {
   "cell_type": "code",
   "execution_count": null,
   "metadata": {
    "ExecuteTime": {
     "end_time": "2018-08-10T18:30:21.855225Z",
     "start_time": "2018-08-10T18:30:18.977583Z"
    }
   },
   "outputs": [],
   "source": [
    "sns.violinplot(data.friends_less_followers)"
   ]
  },
  {
   "cell_type": "code",
   "execution_count": null,
   "metadata": {
    "ExecuteTime": {
     "end_time": "2018-08-10T18:30:24.848484Z",
     "start_time": "2018-08-10T18:30:21.857527Z"
    }
   },
   "outputs": [],
   "source": [
    "sns.distplot(data.friends_less_followers)"
   ]
  },
  {
   "cell_type": "code",
   "execution_count": null,
   "metadata": {},
   "outputs": [],
   "source": []
  },
  {
   "cell_type": "code",
   "execution_count": null,
   "metadata": {},
   "outputs": [],
   "source": []
  },
  {
   "cell_type": "markdown",
   "metadata": {},
   "source": [
    "### Ratio of friends to followers"
   ]
  },
  {
   "cell_type": "code",
   "execution_count": null,
   "metadata": {
    "ExecuteTime": {
     "end_time": "2018-08-10T18:30:27.866196Z",
     "start_time": "2018-08-10T18:30:24.851602Z"
    }
   },
   "outputs": [],
   "source": [
    "sns.violinplot(data.ratio_friends_followers)"
   ]
  },
  {
   "cell_type": "code",
   "execution_count": null,
   "metadata": {
    "ExecuteTime": {
     "end_time": "2018-08-10T01:53:50.530846Z",
     "start_time": "2018-08-10T01:53:50.370890Z"
    }
   },
   "outputs": [],
   "source": [
    "data.sort_values('ratio_friends_followers', ascending=False)[:10]"
   ]
  },
  {
   "cell_type": "code",
   "execution_count": null,
   "metadata": {},
   "outputs": [],
   "source": []
  },
  {
   "cell_type": "code",
   "execution_count": null,
   "metadata": {},
   "outputs": [],
   "source": []
  },
  {
   "cell_type": "markdown",
   "metadata": {},
   "source": [
    "# Bot detection at tweet level\n",
    "\n",
    "Finding bots based only on the data in tweets"
   ]
  },
  {
   "cell_type": "code",
   "execution_count": null,
   "metadata": {},
   "outputs": [],
   "source": []
  },
  {
   "cell_type": "code",
   "execution_count": null,
   "metadata": {},
   "outputs": [],
   "source": []
  },
  {
   "cell_type": "markdown",
   "metadata": {},
   "source": [
    "## New mining (where tweet stores user data)"
   ]
  },
  {
   "cell_type": "code",
   "execution_count": null,
   "metadata": {},
   "outputs": [],
   "source": []
  },
  {
   "cell_type": "code",
   "execution_count": null,
   "metadata": {},
   "outputs": [],
   "source": []
  },
  {
   "cell_type": "code",
   "execution_count": null,
   "metadata": {},
   "outputs": [],
   "source": []
  }
 ],
 "metadata": {
  "kernelspec": {
   "display_name": "Python 3",
   "language": "python",
   "name": "python3"
  },
  "language_info": {
   "codemirror_mode": {
    "name": "ipython",
    "version": 3
   },
   "file_extension": ".py",
   "mimetype": "text/x-python",
   "name": "python",
   "nbconvert_exporter": "python",
   "pygments_lexer": "ipython3",
   "version": "3.6.4"
  },
  "latex_envs": {
   "LaTeX_envs_menu_present": true,
   "autoclose": false,
   "autocomplete": true,
   "bibliofile": "biblio.bib",
   "cite_by": "apalike",
   "current_citInitial": 1,
   "eqLabelWithNumbers": true,
   "eqNumInitial": 1,
   "hotkeys": {
    "equation": "Ctrl-E",
    "itemize": "Ctrl-I"
   },
   "labels_anchors": false,
   "latex_user_defs": false,
   "report_style_numbering": false,
   "user_envs_cfg": false
  },
  "toc": {
   "base_numbering": 1,
   "nav_menu": {},
   "number_sections": true,
   "sideBar": true,
   "skip_h1_title": false,
   "title_cell": "Table of Contents",
   "title_sidebar": "Contents",
   "toc_cell": false,
   "toc_position": {},
   "toc_section_display": true,
   "toc_window_display": false
  }
 },
 "nbformat": 4,
 "nbformat_minor": 2
}
