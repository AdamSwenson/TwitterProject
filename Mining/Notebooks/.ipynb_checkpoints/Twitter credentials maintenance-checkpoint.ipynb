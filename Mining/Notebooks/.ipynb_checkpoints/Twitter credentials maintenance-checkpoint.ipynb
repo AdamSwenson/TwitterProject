{
 "cells": [
  {
   "cell_type": "code",
   "execution_count": null,
   "metadata": {
    "ExecuteTime": {
     "end_time": "2018-06-28T22:18:48.302584Z",
     "start_time": "2018-06-28T22:18:48.296975Z"
    }
   },
   "outputs": [],
   "source": [
    "# %cd '/Users/Adam/Dropbox/PainNarrativesLab/TwitterProject/TwitterMining'\n",
    "# %bookmark twittermining\n",
    "%cd twitterproject"
   ]
  },
  {
   "cell_type": "code",
   "execution_count": null,
   "metadata": {
    "ExecuteTime": {
     "end_time": "2018-06-28T22:18:48.821267Z",
     "start_time": "2018-06-28T22:18:48.669985Z"
    }
   },
   "outputs": [],
   "source": [
    "%run -i environment.py --config=unit-testing\n",
    "\n",
    "# import environment as env\n",
    "from TwitterMining.Miner import TwitterLogin"
   ]
  },
  {
   "cell_type": "code",
   "execution_count": null,
   "metadata": {},
   "outputs": [],
   "source": []
  },
  {
   "cell_type": "code",
   "execution_count": null,
   "metadata": {
    "ExecuteTime": {
     "end_time": "2018-06-28T22:18:50.370975Z",
     "start_time": "2018-06-28T22:18:50.367633Z"
    }
   },
   "outputs": [],
   "source": [
    "from CommonTools.Credentialing.CredentialTools import CredentialLoader\n",
    "credentials = CredentialLoader(env.TWITTER_CREDENTIAL_FILE)"
   ]
  },
  {
   "cell_type": "code",
   "execution_count": null,
   "metadata": {
    "ExecuteTime": {
     "end_time": "2018-06-28T22:18:54.287995Z",
     "start_time": "2018-06-28T22:18:54.285135Z"
    },
    "code_folding": []
   },
   "outputs": [],
   "source": [
    "CONSUMER_KEY = credentials.find( 'consumer_key' )\n",
    "CONSUMER_SECRET = credentials.find( 'consumer_secret' )\n",
    "\n",
    "ACCESS_TOKEN = credentials.find( 'access_token' )\n",
    "ACCESS_TOKEN_SECRET = credentials.find( 'access_token_secret' )"
   ]
  },
  {
   "cell_type": "code",
   "execution_count": null,
   "metadata": {
    "ExecuteTime": {
     "end_time": "2018-06-28T22:19:12.496841Z",
     "start_time": "2018-06-28T22:19:12.491531Z"
    }
   },
   "outputs": [],
   "source": [
    "import twitter\n",
    "\n",
    "api= twitter.Api(\n",
    "            consumer_key=\"%s\" % CONSUMER_KEY,\n",
    "            consumer_secret=\"%s\" % CONSUMER_SECRET,\n",
    "            access_token_key=\"%s\" % ACCESS_TOKEN,\n",
    "            access_token_secret=\"%s\" % ACCESS_TOKEN_SECRET\n",
    "        )"
   ]
  },
  {
   "cell_type": "code",
   "execution_count": null,
   "metadata": {
    "ExecuteTime": {
     "end_time": "2018-06-28T22:19:14.432525Z",
     "start_time": "2018-06-28T22:19:14.171158Z"
    }
   },
   "outputs": [],
   "source": [
    "api.GetSearch(raw_query=\"q=pain\")"
   ]
  },
  {
   "cell_type": "code",
   "execution_count": null,
   "metadata": {
    "ExecuteTime": {
     "end_time": "2018-06-28T22:26:29.336308Z",
     "start_time": "2018-06-28T22:26:29.333593Z"
    }
   },
   "outputs": [],
   "source": [
    "fname = \"%s/test-tweets-for-user-api-responses.pkl\" % env.LOG_FOLDER_PATH"
   ]
  },
  {
   "cell_type": "code",
   "execution_count": null,
   "metadata": {
    "ExecuteTime": {
     "end_time": "2018-06-28T23:19:44.904100Z",
     "start_time": "2018-06-28T23:19:44.896498Z"
    },
    "deletable": false,
    "editable": false,
    "run_control": {
     "frozen": true
    }
   },
   "outputs": [],
   "source": [
    "with open(fname, 'wb') as f:\n",
    "    pickle.dump(results, f)"
   ]
  }
 ],
 "metadata": {
  "kernelspec": {
   "display_name": "Python 3",
   "language": "python",
   "name": "python3"
  },
  "language_info": {
   "codemirror_mode": {
    "name": "ipython",
    "version": 3
   },
   "file_extension": ".py",
   "mimetype": "text/x-python",
   "name": "python",
   "nbconvert_exporter": "python",
   "pygments_lexer": "ipython3",
   "version": "3.6.4"
  },
  "latex_envs": {
   "LaTeX_envs_menu_present": true,
   "autoclose": false,
   "autocomplete": true,
   "bibliofile": "biblio.bib",
   "cite_by": "apalike",
   "current_citInitial": 1,
   "eqLabelWithNumbers": true,
   "eqNumInitial": 1,
   "hotkeys": {
    "equation": "Ctrl-E",
    "itemize": "Ctrl-I"
   },
   "labels_anchors": false,
   "latex_user_defs": false,
   "report_style_numbering": false,
   "user_envs_cfg": false
  },
  "toc": {
   "base_numbering": 1,
   "nav_menu": {},
   "number_sections": true,
   "sideBar": true,
   "skip_h1_title": false,
   "title_cell": "Table of Contents",
   "title_sidebar": "Contents",
   "toc_cell": false,
   "toc_position": {},
   "toc_section_display": true,
   "toc_window_display": false
  }
 },
 "nbformat": 4,
 "nbformat_minor": 2
}
