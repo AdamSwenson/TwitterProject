{
 "cells": [
  {
   "cell_type": "code",
   "execution_count": null,
   "metadata": {
    "ExecuteTime": {
     "end_time": "2018-07-01T21:34:22.877409Z",
     "start_time": "2018-07-01T21:34:22.874734Z"
    }
   },
   "outputs": [],
   "source": [
    "j = \"ws \\n\\nno other way.🌷☘🌷 h\""
   ]
  },
  {
   "cell_type": "code",
   "execution_count": null,
   "metadata": {
    "ExecuteTime": {
     "end_time": "2018-07-01T21:34:40.396385Z",
     "start_time": "2018-07-01T21:34:40.385023Z"
    }
   },
   "outputs": [],
   "source": [
    "j.encode('unicode_escape')"
   ]
  },
  {
   "cell_type": "code",
   "execution_count": 1,
   "metadata": {
    "ExecuteTime": {
     "end_time": "2018-07-02T19:43:09.399685Z",
     "start_time": "2018-07-02T19:43:09.387302Z"
    }
   },
   "outputs": [
    {
     "name": "stdout",
     "output_type": "stream",
     "text": [
      "(bookmark:twitterproject) -> /Users/adam/Dropbox/PainNarrativesLab/TwitterProject\n",
      "/Users/adam/Dropbox/PainNarrativesLab/TwitterProject\n",
      "/Users/adam/Dropbox/PainNarrativesLab/TwitterProject\n",
      "/Users/adam/Dropbox/PainNarrativesLab\n",
      "Reading configuration from /Users/adam/Dropbox/PainNarrativesLab/TwitterProject/configurations/unit-testing.config.ini\n"
     ]
    }
   ],
   "source": [
    "%cd twitterproject\n",
    "%run -i environment.py --config=unit-testing\n"
   ]
  },
  {
   "cell_type": "code",
   "execution_count": 2,
   "metadata": {
    "ExecuteTime": {
     "end_time": "2018-07-02T19:43:13.604972Z",
     "start_time": "2018-07-02T19:43:13.594471Z"
    }
   },
   "outputs": [
    {
     "data": {
      "text/plain": [
       "'/Users/adam/Dropbox/PainNarrativesLab/private_data'"
      ]
     },
     "execution_count": 2,
     "metadata": {},
     "output_type": "execute_result"
    }
   ],
   "source": [
    "DATA_FOLDER"
   ]
  },
  {
   "cell_type": "code",
   "execution_count": null,
   "metadata": {},
   "outputs": [],
   "source": []
  },
  {
   "cell_type": "code",
   "execution_count": null,
   "metadata": {},
   "outputs": [],
   "source": []
  },
  {
   "cell_type": "code",
   "execution_count": null,
   "metadata": {
    "ExecuteTime": {
     "end_time": "2018-07-02T19:25:49.164141Z",
     "start_time": "2018-07-02T19:25:49.154977Z"
    }
   },
   "outputs": [],
   "source": [
    "%env config=laptop-mining\n",
    "import environment"
   ]
  },
  {
   "cell_type": "code",
   "execution_count": null,
   "metadata": {
    "ExecuteTime": {
     "end_time": "2018-07-02T19:23:21.023011Z",
     "start_time": "2018-07-02T19:23:21.014191Z"
    }
   },
   "outputs": [],
   "source": []
  },
  {
   "cell_type": "code",
   "execution_count": null,
   "metadata": {
    "ExecuteTime": {
     "end_time": "2018-07-02T19:26:54.815420Z",
     "start_time": "2018-07-02T19:26:54.806854Z"
    }
   },
   "outputs": [],
   "source": [
    "# import environment as env"
   ]
  },
  {
   "cell_type": "code",
   "execution_count": null,
   "metadata": {
    "ExecuteTime": {
     "end_time": "2018-07-02T19:22:37.974096Z",
     "start_time": "2018-07-02T19:22:37.968828Z"
    }
   },
   "outputs": [],
   "source": [
    "DB_PORT"
   ]
  },
  {
   "cell_type": "code",
   "execution_count": 3,
   "metadata": {
    "ExecuteTime": {
     "end_time": "2018-07-02T19:43:28.245760Z",
     "start_time": "2018-07-02T19:43:27.510568Z"
    }
   },
   "outputs": [],
   "source": [
    "\n",
    "\n",
    "import pandas as pd\n",
    "#Plotting \n",
    "%matplotlib inline\n",
    "from matplotlib import pyplot as plt\n",
    "import seaborn as sns\n",
    "import numpy as np\n",
    "sns.set(style=\"whitegrid\")\n",
    "\n",
    "# import environment\n",
    "\n",
    "from CommonTools.FileTools.CsvFileTools import read_csv\n",
    "\n",
    "EXP_TERMS_FILEPATH = '%s/experimental-terms.xlsx' % EXPERIMENTS_FOLDER\n",
    "IDS_FILEPATH = \"%s/temp_output/tweet-ids.csv\" % LOG_FOLDER_PATH\n",
    "\n",
    "def make_term_ids_filepath(term, path=LOG_FOLDER_PATH):\n",
    "    return \"%s/temp_output/tweet-ids/%s-ids.csv\" % (path, term)\n",
    "\n",
    "\n",
    "# load in terms to search for\n",
    "experimentalTerms = pd.read_excel(EXP_TERMS_FILEPATH, sheet_name='terms', squeeze=True)\n",
    "termMap = pd.read_excel(EXP_TERMS_FILEPATH, sheet_name='mapping')\n",
    "\n",
    "terms = [t for t in termMap.T.index]"
   ]
  },
  {
   "cell_type": "code",
   "execution_count": null,
   "metadata": {
    "ExecuteTime": {
     "end_time": "2018-07-02T19:31:29.511758Z",
     "start_time": "2018-07-02T19:31:29.506589Z"
    }
   },
   "outputs": [],
   "source": [
    "enclosing"
   ]
  },
  {
   "cell_type": "code",
   "execution_count": 5,
   "metadata": {
    "ExecuteTime": {
     "end_time": "2018-07-02T19:43:41.936849Z",
     "start_time": "2018-07-02T19:43:41.930174Z"
    }
   },
   "outputs": [],
   "source": [
    "csvlog = \"%s/mining/twitter-save-data.csv\" % LOG_FOLDER_PATH\n",
    "data = pd.read_csv(csvlog)"
   ]
  },
  {
   "cell_type": "code",
   "execution_count": null,
   "metadata": {
    "ExecuteTime": {
     "end_time": "2018-07-02T18:48:28.051615Z",
     "start_time": "2018-07-02T18:48:27.887771Z"
    }
   },
   "outputs": [],
   "source": [
    "%tb"
   ]
  },
  {
   "cell_type": "code",
   "execution_count": 6,
   "metadata": {
    "ExecuteTime": {
     "end_time": "2018-07-02T19:43:46.203465Z",
     "start_time": "2018-07-02T19:43:46.198910Z"
    }
   },
   "outputs": [],
   "source": [
    "data.time = pd.to_datetime(data.time)\n",
    "data.set_index('time', inplace=True)"
   ]
  },
  {
   "cell_type": "code",
   "execution_count": null,
   "metadata": {
    "ExecuteTime": {
     "end_time": "2018-07-02T15:48:21.466621Z",
     "start_time": "2018-07-02T15:48:21.446219Z"
    },
    "deletable": false,
    "editable": false,
    "run_control": {
     "frozen": true
    }
   },
   "outputs": [],
   "source": [
    "data"
   ]
  },
  {
   "cell_type": "code",
   "execution_count": 7,
   "metadata": {
    "ExecuteTime": {
     "end_time": "2018-07-02T19:43:52.135773Z",
     "start_time": "2018-07-02T19:43:51.893778Z"
    }
   },
   "outputs": [
    {
     "data": {
      "image/png": "[encoded data removed]",
      "text/plain": [
       "<Figure size 504x360 with 1 Axes>"
      ]
     },
     "metadata": {},
     "output_type": "display_data"
    }
   ],
   "source": [
    "fig, axes = plt.subplots(figsize=(7,5))\n",
    "data.success.plot(ax=axes)\n",
    "fig.tight_layout()"
   ]
  },
  {
   "cell_type": "code",
   "execution_count": null,
   "metadata": {
    "ExecuteTime": {
     "end_time": "2018-07-02T15:48:47.539771Z",
     "start_time": "2018-07-02T15:48:47.535645Z"
    }
   },
   "outputs": [],
   "source": [
    "data.success.sum()"
   ]
  },
  {
   "cell_type": "code",
   "execution_count": null,
   "metadata": {},
   "outputs": [],
   "source": []
  }
 ],
 "metadata": {
  "kernelspec": {
   "display_name": "Python 3",
   "language": "python",
   "name": "python3"
  },
  "language_info": {
   "codemirror_mode": {
    "name": "ipython",
    "version": 3
   },
   "file_extension": ".py",
   "mimetype": "text/x-python",
   "name": "python",
   "nbconvert_exporter": "python",
   "pygments_lexer": "ipython3",
   "version": "3.6.4"
  },
  "latex_envs": {
   "LaTeX_envs_menu_present": true,
   "autoclose": false,
   "autocomplete": true,
   "bibliofile": "biblio.bib",
   "cite_by": "apalike",
   "current_citInitial": 1,
   "eqLabelWithNumbers": true,
   "eqNumInitial": 1,
   "hotkeys": {
    "equation": "Ctrl-E",
    "itemize": "Ctrl-I"
   },
   "labels_anchors": false,
   "latex_user_defs": false,
   "report_style_numbering": false,
   "user_envs_cfg": false
  },
  "toc": {
   "base_numbering": 1,
   "nav_menu": {},
   "number_sections": true,
   "sideBar": true,
   "skip_h1_title": false,
   "title_cell": "Table of Contents",
   "title_sidebar": "Contents",
   "toc_cell": false,
   "toc_position": {},
   "toc_section_display": true,
   "toc_window_display": false
  }
 },
 "nbformat": 4,
 "nbformat_minor": 2
}
