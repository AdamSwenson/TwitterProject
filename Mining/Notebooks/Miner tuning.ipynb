{
 "cells": [
  {
   "cell_type": "code",
   "execution_count": 1,
   "metadata": {
    "ExecuteTime": {
     "end_time": "2018-07-01T21:34:22.877409Z",
     "start_time": "2018-07-01T21:34:22.874734Z"
    }
   },
   "outputs": [],
   "source": [
    "j = \"ws \\n\\nno other way.🌷☘🌷 h\""
   ]
  },
  {
   "cell_type": "code",
   "execution_count": 2,
   "metadata": {
    "ExecuteTime": {
     "end_time": "2018-07-01T21:34:40.396385Z",
     "start_time": "2018-07-01T21:34:40.385023Z"
    }
   },
   "outputs": [
    {
     "data": {
      "text/plain": [
       "b'ws \\\\n\\\\nno other way.\\\\U0001f337\\\\u2618\\\\U0001f337 h'"
      ]
     },
     "execution_count": 2,
     "metadata": {},
     "output_type": "execute_result"
    }
   ],
   "source": [
    "j.encode('unicode_escape')"
   ]
  },
  {
   "cell_type": "code",
   "execution_count": 3,
   "metadata": {
    "ExecuteTime": {
     "end_time": "2018-07-01T21:58:43.696067Z",
     "start_time": "2018-07-01T21:58:43.686637Z"
    }
   },
   "outputs": [
    {
     "name": "stdout",
     "output_type": "stream",
     "text": [
      "(bookmark:twitterproject) -> /Users/adam/Dropbox/PainNarrativesLab/TwitterProject\n",
      "/Users/adam/Dropbox/PainNarrativesLab/TwitterProject\n"
     ]
    }
   ],
   "source": [
    "%cd twitterproject"
   ]
  },
  {
   "cell_type": "code",
   "execution_count": 5,
   "metadata": {
    "ExecuteTime": {
     "end_time": "2018-07-01T22:00:28.880187Z",
     "start_time": "2018-07-01T22:00:28.862900Z"
    }
   },
   "outputs": [],
   "source": [
    "\n",
    "import pandas as pd\n",
    "#Plotting \n",
    "%matplotlib inline\n",
    "from matplotlib import pyplot as plt\n",
    "import seaborn as sns\n",
    "import numpy as np\n",
    "\n",
    "sns.set(style=\"whitegrid\")\n",
    "\n",
    "import environment\n",
    "\n",
    "from CommonTools.FileTools.CsvFileTools import read_csv\n",
    "\n",
    "EXP_TERMS_FILEPATH = '%s/experimental-terms.xlsx' % environment.EXPERIMENTS_FOLDER\n",
    "IDS_FILEPATH = \"%s/temp_output/tweet-ids.csv\" % environment.LOG_FOLDER_PATH\n",
    "\n",
    "def make_term_ids_filepath(term, path=environment.LOG_FOLDER_PATH):\n",
    "    return \"%s/temp_output/tweet-ids/%s-ids.csv\" % (path, term)\n",
    "\n",
    "\n",
    "# load in terms to search for\n",
    "experimentalTerms = pd.read_excel(EXP_TERMS_FILEPATH, sheet_name='terms', squeeze=True)\n",
    "termMap = pd.read_excel(EXP_TERMS_FILEPATH, sheet_name='mapping')\n",
    "\n",
    "terms = [t for t in termMap.T.index]"
   ]
  },
  {
   "cell_type": "code",
   "execution_count": 6,
   "metadata": {
    "ExecuteTime": {
     "end_time": "2018-07-01T22:01:14.989813Z",
     "start_time": "2018-07-01T22:01:14.978625Z"
    }
   },
   "outputs": [],
   "source": [
    "csvlog = \"%s/mining/twitter-save-data.csv\" % environment.LOG_FOLDER_PATH\n",
    "data = pd.read_csv(csvlog)"
   ]
  },
  {
   "cell_type": "code",
   "execution_count": 7,
   "metadata": {
    "ExecuteTime": {
     "end_time": "2018-07-01T22:01:19.932865Z",
     "start_time": "2018-07-01T22:01:19.890859Z"
    }
   },
   "outputs": [
    {
     "data": {
      "text/html": [
       "<div>\n",
       "<style scoped>\n",
       "    .dataframe tbody tr th:only-of-type {\n",
       "        vertical-align: middle;\n",
       "    }\n",
       "\n",
       "    .dataframe tbody tr th {\n",
       "        vertical-align: top;\n",
       "    }\n",
       "\n",
       "    .dataframe thead th {\n",
       "        text-align: right;\n",
       "    }\n",
       "</style>\n",
       "<table border=\"1\" class=\"dataframe\">\n",
       "  <thead>\n",
       "    <tr style=\"text-align: right;\">\n",
       "      <th></th>\n",
       "      <th>time</th>\n",
       "      <th>attempts</th>\n",
       "      <th>success</th>\n",
       "      <th>rate</th>\n",
       "      <th>invalid</th>\n",
       "    </tr>\n",
       "  </thead>\n",
       "  <tbody>\n",
       "    <tr>\n",
       "      <th>0</th>\n",
       "      <td>2018-07-01T14:39:51.918594</td>\n",
       "      <td>1128</td>\n",
       "      <td>16</td>\n",
       "      <td>0.014184</td>\n",
       "      <td>0</td>\n",
       "    </tr>\n",
       "    <tr>\n",
       "      <th>1</th>\n",
       "      <td>2018-07-01T14:54:21.231627</td>\n",
       "      <td>188</td>\n",
       "      <td>16</td>\n",
       "      <td>0.085106</td>\n",
       "      <td>0</td>\n",
       "    </tr>\n",
       "    <tr>\n",
       "      <th>2</th>\n",
       "      <td>2018-07-01T14:54:24.803959</td>\n",
       "      <td>188</td>\n",
       "      <td>64</td>\n",
       "      <td>0.340426</td>\n",
       "      <td>10</td>\n",
       "    </tr>\n",
       "    <tr>\n",
       "      <th>3</th>\n",
       "      <td>2018-07-01T14:54:27.874729</td>\n",
       "      <td>188</td>\n",
       "      <td>0</td>\n",
       "      <td>0.000000</td>\n",
       "      <td>0</td>\n",
       "    </tr>\n",
       "    <tr>\n",
       "      <th>4</th>\n",
       "      <td>2018-07-01T14:54:30.975383</td>\n",
       "      <td>376</td>\n",
       "      <td>64</td>\n",
       "      <td>0.170213</td>\n",
       "      <td>10</td>\n",
       "    </tr>\n",
       "    <tr>\n",
       "      <th>5</th>\n",
       "      <td>2018-07-01T14:54:34.445751</td>\n",
       "      <td>188</td>\n",
       "      <td>0</td>\n",
       "      <td>0.000000</td>\n",
       "      <td>0</td>\n",
       "    </tr>\n",
       "    <tr>\n",
       "      <th>6</th>\n",
       "      <td>2018-07-01T14:54:37.578326</td>\n",
       "      <td>376</td>\n",
       "      <td>16</td>\n",
       "      <td>0.042553</td>\n",
       "      <td>0</td>\n",
       "    </tr>\n",
       "    <tr>\n",
       "      <th>7</th>\n",
       "      <td>2018-07-01T14:54:40.622285</td>\n",
       "      <td>376</td>\n",
       "      <td>0</td>\n",
       "      <td>0.000000</td>\n",
       "      <td>0</td>\n",
       "    </tr>\n",
       "    <tr>\n",
       "      <th>8</th>\n",
       "      <td>2018-07-01T14:54:43.778078</td>\n",
       "      <td>188</td>\n",
       "      <td>0</td>\n",
       "      <td>0.000000</td>\n",
       "      <td>0</td>\n",
       "    </tr>\n",
       "    <tr>\n",
       "      <th>9</th>\n",
       "      <td>2018-07-01T14:54:47.173891</td>\n",
       "      <td>188</td>\n",
       "      <td>16</td>\n",
       "      <td>0.085106</td>\n",
       "      <td>0</td>\n",
       "    </tr>\n",
       "    <tr>\n",
       "      <th>10</th>\n",
       "      <td>2018-07-01T14:54:50.154863</td>\n",
       "      <td>564</td>\n",
       "      <td>64</td>\n",
       "      <td>0.113475</td>\n",
       "      <td>10</td>\n",
       "    </tr>\n",
       "    <tr>\n",
       "      <th>11</th>\n",
       "      <td>2018-07-01T14:54:53.071937</td>\n",
       "      <td>376</td>\n",
       "      <td>16</td>\n",
       "      <td>0.042553</td>\n",
       "      <td>0</td>\n",
       "    </tr>\n",
       "    <tr>\n",
       "      <th>12</th>\n",
       "      <td>2018-07-01T14:54:56.029116</td>\n",
       "      <td>376</td>\n",
       "      <td>0</td>\n",
       "      <td>0.000000</td>\n",
       "      <td>0</td>\n",
       "    </tr>\n",
       "    <tr>\n",
       "      <th>13</th>\n",
       "      <td>2018-07-01T14:54:59.099325</td>\n",
       "      <td>564</td>\n",
       "      <td>16</td>\n",
       "      <td>0.028369</td>\n",
       "      <td>0</td>\n",
       "    </tr>\n",
       "    <tr>\n",
       "      <th>14</th>\n",
       "      <td>2018-07-01T14:55:02.144757</td>\n",
       "      <td>752</td>\n",
       "      <td>16</td>\n",
       "      <td>0.021277</td>\n",
       "      <td>0</td>\n",
       "    </tr>\n",
       "  </tbody>\n",
       "</table>\n",
       "</div>"
      ],
      "text/plain": [
       "                          time  attempts  success      rate  invalid\n",
       "0   2018-07-01T14:39:51.918594      1128       16  0.014184        0\n",
       "1   2018-07-01T14:54:21.231627       188       16  0.085106        0\n",
       "2   2018-07-01T14:54:24.803959       188       64  0.340426       10\n",
       "3   2018-07-01T14:54:27.874729       188        0  0.000000        0\n",
       "4   2018-07-01T14:54:30.975383       376       64  0.170213       10\n",
       "5   2018-07-01T14:54:34.445751       188        0  0.000000        0\n",
       "6   2018-07-01T14:54:37.578326       376       16  0.042553        0\n",
       "7   2018-07-01T14:54:40.622285       376        0  0.000000        0\n",
       "8   2018-07-01T14:54:43.778078       188        0  0.000000        0\n",
       "9   2018-07-01T14:54:47.173891       188       16  0.085106        0\n",
       "10  2018-07-01T14:54:50.154863       564       64  0.113475       10\n",
       "11  2018-07-01T14:54:53.071937       376       16  0.042553        0\n",
       "12  2018-07-01T14:54:56.029116       376        0  0.000000        0\n",
       "13  2018-07-01T14:54:59.099325       564       16  0.028369        0\n",
       "14  2018-07-01T14:55:02.144757       752       16  0.021277        0"
      ]
     },
     "execution_count": 7,
     "metadata": {},
     "output_type": "execute_result"
    }
   ],
   "source": [
    "data"
   ]
  },
  {
   "cell_type": "code",
   "execution_count": null,
   "metadata": {},
   "outputs": [],
   "source": []
  }
 ],
 "metadata": {
  "kernelspec": {
   "display_name": "Python 3",
   "language": "python",
   "name": "python3"
  },
  "language_info": {
   "codemirror_mode": {
    "name": "ipython",
    "version": 3
   },
   "file_extension": ".py",
   "mimetype": "text/x-python",
   "name": "python",
   "nbconvert_exporter": "python",
   "pygments_lexer": "ipython3",
   "version": "3.6.4"
  },
  "latex_envs": {
   "LaTeX_envs_menu_present": true,
   "autoclose": false,
   "autocomplete": true,
   "bibliofile": "biblio.bib",
   "cite_by": "apalike",
   "current_citInitial": 1,
   "eqLabelWithNumbers": true,
   "eqNumInitial": 1,
   "hotkeys": {
    "equation": "Ctrl-E",
    "itemize": "Ctrl-I"
   },
   "labels_anchors": false,
   "latex_user_defs": false,
   "report_style_numbering": false,
   "user_envs_cfg": false
  },
  "toc": {
   "base_numbering": 1,
   "nav_menu": {},
   "number_sections": true,
   "sideBar": true,
   "skip_h1_title": false,
   "title_cell": "Table of Contents",
   "title_sidebar": "Contents",
   "toc_cell": false,
   "toc_position": {},
   "toc_section_display": true,
   "toc_window_display": false
  }
 },
 "nbformat": 4,
 "nbformat_minor": 2
}
